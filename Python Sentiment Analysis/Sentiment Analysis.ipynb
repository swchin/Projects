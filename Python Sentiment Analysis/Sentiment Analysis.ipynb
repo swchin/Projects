{
 "cells": [
  {
   "cell_type": "code",
   "execution_count": null,
   "id": "40bdc814",
   "metadata": {},
   "outputs": [],
   "source": [
    "## Installing google play store review scraper \n",
    "!pip install -q google_play_scraper "
   ]
  },
  {
   "cell_type": "code",
   "execution_count": null,
   "id": "cea9cbda",
   "metadata": {},
   "outputs": [],
   "source": [
    "## installing transformers for sentiment analysis \n",
    "!pip install -q transformers        "
   ]
  },
  {
   "cell_type": "code",
   "execution_count": null,
   "id": "8c77396e",
   "metadata": {},
   "outputs": [],
   "source": [
    "!pip install -q plotly-express    "
   ]
  },
  {
   "cell_type": "code",
   "execution_count": 7,
   "id": "d2a14b07",
   "metadata": {},
   "outputs": [],
   "source": [
    "import pandas as pd\n",
    "import numpy as np"
   ]
  },
  {
   "cell_type": "code",
   "execution_count": 8,
   "id": "d0d0cc39",
   "metadata": {},
   "outputs": [],
   "source": [
    "from google_play_scraper import app, Sort, reviews_all "
   ]
  },
  {
   "cell_type": "code",
   "execution_count": 9,
   "id": "60d95a3e",
   "metadata": {},
   "outputs": [],
   "source": [
    "### Collecting google play store review for la3eb. \n",
    "laeb = reviews_all('com.mecl.la3eb', sleep_milliseconds = 0, lang = 'en', country = 'US', sort = Sort.NEWEST )"
   ]
  },
  {
   "cell_type": "code",
   "execution_count": 10,
   "id": "dc9bab39",
   "metadata": {},
   "outputs": [
    {
     "data": {
      "text/plain": [
       "197"
      ]
     },
     "execution_count": 10,
     "metadata": {},
     "output_type": "execute_result"
    }
   ],
   "source": [
    "len(laeb)"
   ]
  },
  {
   "cell_type": "markdown",
   "id": "3ed764f5",
   "metadata": {},
   "source": [
    "Managed to scrap 197 reviews."
   ]
  },
  {
   "cell_type": "code",
   "execution_count": 11,
   "id": "c557da26",
   "metadata": {},
   "outputs": [
    {
     "data": {
      "text/plain": [
       "list"
      ]
     },
     "execution_count": 11,
     "metadata": {},
     "output_type": "execute_result"
    }
   ],
   "source": [
    "type(laeb)"
   ]
  },
  {
   "cell_type": "code",
   "execution_count": 12,
   "id": "ac9b17da",
   "metadata": {},
   "outputs": [
    {
     "data": {
      "text/plain": [
       "{'reviewId': '5b00d401-dad8-489b-8784-21e89ca10d8d',\n",
       " 'userName': 'q_mly',\n",
       " 'userImage': 'https://play-lh.googleusercontent.com/a-/AD5-WClrIL5SrkMlHnETuHeoKLq3fvFu8xB25vnQehzM_g',\n",
       " 'content': 'التطبيق حلو بس اتمنى قدر المستطاع توفير سوني 5 وتحياتي',\n",
       " 'score': 5,\n",
       " 'thumbsUpCount': 0,\n",
       " 'reviewCreatedVersion': '2.2.0',\n",
       " 'at': datetime.datetime(2022, 12, 18, 3, 36, 48),\n",
       " 'replyContent': 'يعطيك العافية، متوفر حزم متنوعة حاليا بالتطبيق للبلايستيشن 5',\n",
       " 'repliedAt': datetime.datetime(2022, 12, 18, 4, 57, 22)}"
      ]
     },
     "execution_count": 12,
     "metadata": {},
     "output_type": "execute_result"
    }
   ],
   "source": [
    "laeb[0]"
   ]
  },
  {
   "cell_type": "code",
   "execution_count": 13,
   "id": "0a8e990b",
   "metadata": {},
   "outputs": [
    {
     "data": {
      "text/html": [
       "<div>\n",
       "<style scoped>\n",
       "    .dataframe tbody tr th:only-of-type {\n",
       "        vertical-align: middle;\n",
       "    }\n",
       "\n",
       "    .dataframe tbody tr th {\n",
       "        vertical-align: top;\n",
       "    }\n",
       "\n",
       "    .dataframe thead th {\n",
       "        text-align: right;\n",
       "    }\n",
       "</style>\n",
       "<table border=\"1\" class=\"dataframe\">\n",
       "  <thead>\n",
       "    <tr style=\"text-align: right;\">\n",
       "      <th></th>\n",
       "      <th>reviewId</th>\n",
       "      <th>userName</th>\n",
       "      <th>userImage</th>\n",
       "      <th>content</th>\n",
       "      <th>score</th>\n",
       "      <th>thumbsUpCount</th>\n",
       "      <th>reviewCreatedVersion</th>\n",
       "      <th>at</th>\n",
       "      <th>replyContent</th>\n",
       "      <th>repliedAt</th>\n",
       "      <th>Year</th>\n",
       "    </tr>\n",
       "  </thead>\n",
       "  <tbody>\n",
       "    <tr>\n",
       "      <th>0</th>\n",
       "      <td>5b00d401-dad8-489b-8784-21e89ca10d8d</td>\n",
       "      <td>q_mly</td>\n",
       "      <td>https://play-lh.googleusercontent.com/a-/AD5-W...</td>\n",
       "      <td>التطبيق حلو بس اتمنى قدر المستطاع توفير سوني 5...</td>\n",
       "      <td>5</td>\n",
       "      <td>0</td>\n",
       "      <td>2.2.0</td>\n",
       "      <td>2022-12-18 03:36:48</td>\n",
       "      <td>يعطيك العافية، متوفر حزم متنوعة حاليا بالتطبيق...</td>\n",
       "      <td>2022-12-18 04:57:22</td>\n",
       "      <td>2022</td>\n",
       "    </tr>\n",
       "    <tr>\n",
       "      <th>1</th>\n",
       "      <td>164789b7-2ab2-493c-9feb-d9cf108a8594</td>\n",
       "      <td>Mohammed Adam</td>\n",
       "      <td>https://play-lh.googleusercontent.com/a/AEdFTp...</td>\n",
       "      <td>انه جملة جدا</td>\n",
       "      <td>5</td>\n",
       "      <td>0</td>\n",
       "      <td>2.7.0</td>\n",
       "      <td>2022-11-15 22:58:19</td>\n",
       "      <td>شكرا لك على التقييم 😍</td>\n",
       "      <td>2022-11-16 00:04:06</td>\n",
       "      <td>2022</td>\n",
       "    </tr>\n",
       "    <tr>\n",
       "      <th>2</th>\n",
       "      <td>804b25bf-6f46-4a58-b708-d3e38b40ec6d</td>\n",
       "      <td>Asger Jorn</td>\n",
       "      <td>https://play-lh.googleusercontent.com/a-/AD5-W...</td>\n",
       "      <td>Ordered a TV and it's been 4 days and it's sti...</td>\n",
       "      <td>3</td>\n",
       "      <td>0</td>\n",
       "      <td>2.7.0</td>\n",
       "      <td>2022-11-08 21:31:01</td>\n",
       "      <td>kindly send the order number or your mobile nu...</td>\n",
       "      <td>2022-11-10 12:15:01</td>\n",
       "      <td>2022</td>\n",
       "    </tr>\n",
       "    <tr>\n",
       "      <th>3</th>\n",
       "      <td>65ec6929-66c1-427d-9bd1-5e43134014c9</td>\n",
       "      <td>Mahmoud Abunada</td>\n",
       "      <td>https://play-lh.googleusercontent.com/a-/AD5-W...</td>\n",
       "      <td>نصابين وموقع سرق فلوس ولا يردو عليك ولا يرجعو ...</td>\n",
       "      <td>1</td>\n",
       "      <td>2</td>\n",
       "      <td>2.7.0</td>\n",
       "      <td>2022-11-02 15:47:21</td>\n",
       "      <td>عزيزى العميل نعتذر عن اى مشكلة واجهتك يرجى الت...</td>\n",
       "      <td>2022-11-02 18:01:22</td>\n",
       "      <td>2022</td>\n",
       "    </tr>\n",
       "    <tr>\n",
       "      <th>4</th>\n",
       "      <td>a0cde39f-d8b2-4bd2-9620-8bed78fd0aee</td>\n",
       "      <td>Mhmd K</td>\n",
       "      <td>https://play-lh.googleusercontent.com/a/AEdFTp...</td>\n",
       "      <td>It have every game but valorent</td>\n",
       "      <td>4</td>\n",
       "      <td>0</td>\n",
       "      <td>2.6.0</td>\n",
       "      <td>2022-10-12 11:41:35</td>\n",
       "      <td>None</td>\n",
       "      <td>NaT</td>\n",
       "      <td>2022</td>\n",
       "    </tr>\n",
       "  </tbody>\n",
       "</table>\n",
       "</div>"
      ],
      "text/plain": [
       "                               reviewId         userName  \\\n",
       "0  5b00d401-dad8-489b-8784-21e89ca10d8d            q_mly   \n",
       "1  164789b7-2ab2-493c-9feb-d9cf108a8594    Mohammed Adam   \n",
       "2  804b25bf-6f46-4a58-b708-d3e38b40ec6d       Asger Jorn   \n",
       "3  65ec6929-66c1-427d-9bd1-5e43134014c9  Mahmoud Abunada   \n",
       "4  a0cde39f-d8b2-4bd2-9620-8bed78fd0aee           Mhmd K   \n",
       "\n",
       "                                           userImage  \\\n",
       "0  https://play-lh.googleusercontent.com/a-/AD5-W...   \n",
       "1  https://play-lh.googleusercontent.com/a/AEdFTp...   \n",
       "2  https://play-lh.googleusercontent.com/a-/AD5-W...   \n",
       "3  https://play-lh.googleusercontent.com/a-/AD5-W...   \n",
       "4  https://play-lh.googleusercontent.com/a/AEdFTp...   \n",
       "\n",
       "                                             content  score  thumbsUpCount  \\\n",
       "0  التطبيق حلو بس اتمنى قدر المستطاع توفير سوني 5...      5              0   \n",
       "1                                       انه جملة جدا      5              0   \n",
       "2  Ordered a TV and it's been 4 days and it's sti...      3              0   \n",
       "3  نصابين وموقع سرق فلوس ولا يردو عليك ولا يرجعو ...      1              2   \n",
       "4                    It have every game but valorent      4              0   \n",
       "\n",
       "  reviewCreatedVersion                  at  \\\n",
       "0                2.2.0 2022-12-18 03:36:48   \n",
       "1                2.7.0 2022-11-15 22:58:19   \n",
       "2                2.7.0 2022-11-08 21:31:01   \n",
       "3                2.7.0 2022-11-02 15:47:21   \n",
       "4                2.6.0 2022-10-12 11:41:35   \n",
       "\n",
       "                                        replyContent           repliedAt  Year  \n",
       "0  يعطيك العافية، متوفر حزم متنوعة حاليا بالتطبيق... 2022-12-18 04:57:22  2022  \n",
       "1                              شكرا لك على التقييم 😍 2022-11-16 00:04:06  2022  \n",
       "2  kindly send the order number or your mobile nu... 2022-11-10 12:15:01  2022  \n",
       "3  عزيزى العميل نعتذر عن اى مشكلة واجهتك يرجى الت... 2022-11-02 18:01:22  2022  \n",
       "4                                               None                 NaT  2022  "
      ]
     },
     "execution_count": 13,
     "metadata": {},
     "output_type": "execute_result"
    }
   ],
   "source": [
    "## This is a JSON file, convert it into dataframe.\n",
    "df = pd.json_normalize(laeb)\n",
    "## The 'at' column is timestamp. Create a new column named 'Year' to store only the year value of this date. \n",
    "df['Year'] = pd.DatetimeIndex(df['at']).year\n",
    "df.head()"
   ]
  },
  {
   "cell_type": "code",
   "execution_count": 14,
   "id": "8701a8c5",
   "metadata": {},
   "outputs": [
    {
     "data": {
      "text/plain": [
       "(197, 11)"
      ]
     },
     "execution_count": 14,
     "metadata": {},
     "output_type": "execute_result"
    }
   ],
   "source": [
    "### 197 rows, 11 columns\n",
    "df.shape"
   ]
  },
  {
   "cell_type": "code",
   "execution_count": 1,
   "id": "6e9e9c00",
   "metadata": {
    "scrolled": true
   },
   "outputs": [
    {
     "name": "stdout",
     "output_type": "stream",
     "text": [
      "Collecting googletrans==4.0.0rc1\n",
      "  Using cached googletrans-4.0.0rc1.tar.gz (20 kB)\n",
      "  Preparing metadata (setup.py): started\n",
      "  Preparing metadata (setup.py): finished with status 'done'\n",
      "Collecting httpx==0.13.3\n",
      "  Using cached httpx-0.13.3-py3-none-any.whl (55 kB)\n",
      "Collecting idna==2.*\n",
      "  Using cached idna-2.10-py2.py3-none-any.whl (58 kB)\n",
      "Collecting hstspreload\n",
      "  Using cached hstspreload-2022.12.1-py3-none-any.whl (1.5 MB)\n",
      "Collecting chardet==3.*\n",
      "  Using cached chardet-3.0.4-py2.py3-none-any.whl (133 kB)\n",
      "Collecting httpcore==0.9.*\n",
      "  Using cached httpcore-0.9.1-py3-none-any.whl (42 kB)\n",
      "Requirement already satisfied: sniffio in c:\\users\\sw\\anaconda\\envs\\tensorflow\\lib\\site-packages (from httpx==0.13.3->googletrans==4.0.0rc1) (1.2.0)\n",
      "Requirement already satisfied: certifi in c:\\users\\sw\\anaconda\\envs\\tensorflow\\lib\\site-packages (from httpx==0.13.3->googletrans==4.0.0rc1) (2022.9.24)\n",
      "Collecting rfc3986<2,>=1.3\n",
      "  Using cached rfc3986-1.5.0-py2.py3-none-any.whl (31 kB)\n",
      "Collecting h11<0.10,>=0.8\n",
      "  Using cached h11-0.9.0-py2.py3-none-any.whl (53 kB)\n",
      "Collecting h2==3.*\n",
      "  Using cached h2-3.2.0-py2.py3-none-any.whl (65 kB)\n",
      "Collecting hyperframe<6,>=5.2.0\n",
      "  Using cached hyperframe-5.2.0-py2.py3-none-any.whl (12 kB)\n",
      "Collecting hpack<4,>=3.0\n",
      "  Using cached hpack-3.0.0-py2.py3-none-any.whl (38 kB)\n",
      "Building wheels for collected packages: googletrans\n",
      "  Building wheel for googletrans (setup.py): started\n",
      "  Building wheel for googletrans (setup.py): finished with status 'done'\n",
      "  Created wheel for googletrans: filename=googletrans-4.0.0rc1-py3-none-any.whl size=17411 sha256=6e829117512e602448cdf7b90b374ad1e20ac9110e5de90da9378c65db3bc1bc\n",
      "  Stored in directory: c:\\users\\sw\\appdata\\local\\pip\\cache\\wheels\\42\\11\\21\\8a967ed422029aa7e3a5ddbe672ab693db8ee9bac9dfc26cc0\n",
      "Successfully built googletrans\n",
      "Installing collected packages: rfc3986, hyperframe, hpack, h11, chardet, idna, hstspreload, h2, httpcore, httpx, googletrans\n",
      "  Attempting uninstall: idna\n",
      "    Found existing installation: idna 3.4\n",
      "    Uninstalling idna-3.4:\n",
      "      Successfully uninstalled idna-3.4\n",
      "Successfully installed chardet-3.0.4 googletrans-4.0.0rc1 h11-0.9.0 h2-3.2.0 hpack-3.0.0 hstspreload-2022.12.1 httpcore-0.9.1 httpx-0.13.3 hyperframe-5.2.0 idna-2.10 rfc3986-1.5.0\n"
     ]
    }
   ],
   "source": [
    "!pip install googletrans==4.0.0rc1"
   ]
  },
  {
   "cell_type": "code",
   "execution_count": 2,
   "id": "9dd03ca7",
   "metadata": {},
   "outputs": [],
   "source": [
    "### Translating all the non english review to english for analysis \n",
    "from googletrans import Translator, constants\n",
    "from pprint import pprint\n",
    "translator = Translator()"
   ]
  },
  {
   "cell_type": "code",
   "execution_count": null,
   "id": "f0478aa6",
   "metadata": {},
   "outputs": [],
   "source": [
    "##\n",
    "##!pip install google_trans_new\n",
    "##from google_trans_new import google_translator\n",
    "##translator = google_translator()"
   ]
  },
  {
   "cell_type": "code",
   "execution_count": 15,
   "id": "c9fda69f",
   "metadata": {},
   "outputs": [],
   "source": [
    "## The original review is in the 'CONTENT' column. Create a new column to store this 'Translated' value.\n",
    "df['translated'] = df['content'].apply(lambda x:translator.translate(x, dest='en').text) "
   ]
  },
  {
   "cell_type": "code",
   "execution_count": 157,
   "id": "ce501434",
   "metadata": {},
   "outputs": [
    {
     "data": {
      "text/html": [
       "<div>\n",
       "<style scoped>\n",
       "    .dataframe tbody tr th:only-of-type {\n",
       "        vertical-align: middle;\n",
       "    }\n",
       "\n",
       "    .dataframe tbody tr th {\n",
       "        vertical-align: top;\n",
       "    }\n",
       "\n",
       "    .dataframe thead th {\n",
       "        text-align: right;\n",
       "    }\n",
       "</style>\n",
       "<table border=\"1\" class=\"dataframe\">\n",
       "  <thead>\n",
       "    <tr style=\"text-align: right;\">\n",
       "      <th></th>\n",
       "      <th>reviewId</th>\n",
       "      <th>userName</th>\n",
       "      <th>userImage</th>\n",
       "      <th>content</th>\n",
       "      <th>score</th>\n",
       "      <th>thumbsUpCount</th>\n",
       "      <th>reviewCreatedVersion</th>\n",
       "      <th>at</th>\n",
       "      <th>replyContent</th>\n",
       "      <th>repliedAt</th>\n",
       "      <th>Year</th>\n",
       "      <th>translated</th>\n",
       "      <th>Result</th>\n",
       "      <th>Sentiment</th>\n",
       "    </tr>\n",
       "  </thead>\n",
       "  <tbody>\n",
       "    <tr>\n",
       "      <th>0</th>\n",
       "      <td>5b00d401-dad8-489b-8784-21e89ca10d8d</td>\n",
       "      <td>q_mly</td>\n",
       "      <td>https://play-lh.googleusercontent.com/a-/AD5-WClrIL5SrkMlHnETuHeoKLq3fvFu8xB25vnQehzM_g</td>\n",
       "      <td>التطبيق حلو بس اتمنى قدر المستطاع توفير سوني 5 وتحياتي</td>\n",
       "      <td>5</td>\n",
       "      <td>0</td>\n",
       "      <td>2.2.0</td>\n",
       "      <td>2022-12-18 03:36:48</td>\n",
       "      <td>يعطيك العافية، متوفر حزم متنوعة حاليا بالتطبيق للبلايستيشن 5</td>\n",
       "      <td>2022-12-18 04:57:22</td>\n",
       "      <td>2022</td>\n",
       "      <td>The application is sweet, but I hope as much as possible to provide Sony 5 and my greetings</td>\n",
       "      <td>[{'label': 'POSITIVE', 'score': 0.9978867173194885}]</td>\n",
       "      <td>POSITIVE</td>\n",
       "    </tr>\n",
       "    <tr>\n",
       "      <th>1</th>\n",
       "      <td>164789b7-2ab2-493c-9feb-d9cf108a8594</td>\n",
       "      <td>Mohammed Adam</td>\n",
       "      <td>https://play-lh.googleusercontent.com/a/AEdFTp5JKmdnL33HnoLKQtwvPkd--BvQgeknzoe9liMy=mo</td>\n",
       "      <td>انه جملة جدا</td>\n",
       "      <td>5</td>\n",
       "      <td>0</td>\n",
       "      <td>2.7.0</td>\n",
       "      <td>2022-11-15 22:58:19</td>\n",
       "      <td>شكرا لك على التقييم 😍</td>\n",
       "      <td>2022-11-16 00:04:06</td>\n",
       "      <td>2022</td>\n",
       "      <td>It is a very sentence</td>\n",
       "      <td>[{'label': 'NEGATIVE', 'score': 0.9853544235229492}]</td>\n",
       "      <td>NEGATIVE</td>\n",
       "    </tr>\n",
       "    <tr>\n",
       "      <th>2</th>\n",
       "      <td>804b25bf-6f46-4a58-b708-d3e38b40ec6d</td>\n",
       "      <td>Asger Jorn</td>\n",
       "      <td>https://play-lh.googleusercontent.com/a-/AD5-WCnKXOvcDpo-_a9hEE5Rddi0vF1tXfdzOm6xEW83YA</td>\n",
       "      <td>Ordered a TV and it's been 4 days and it's still not delivered. maybe it's a scam</td>\n",
       "      <td>3</td>\n",
       "      <td>0</td>\n",
       "      <td>2.7.0</td>\n",
       "      <td>2022-11-08 21:31:01</td>\n",
       "      <td>kindly send the order number or your mobile number to solve it as soon as possible</td>\n",
       "      <td>2022-11-10 12:15:01</td>\n",
       "      <td>2022</td>\n",
       "      <td>Ordered a TV and it's been 4 days and it's still not delivered. maybe it's a scam</td>\n",
       "      <td>[{'label': 'NEGATIVE', 'score': 0.9995014667510986}]</td>\n",
       "      <td>NEGATIVE</td>\n",
       "    </tr>\n",
       "    <tr>\n",
       "      <th>3</th>\n",
       "      <td>65ec6929-66c1-427d-9bd1-5e43134014c9</td>\n",
       "      <td>Mahmoud Abunada</td>\n",
       "      <td>https://play-lh.googleusercontent.com/a-/AD5-WClKijbSlAXoRBBysfL9bGgJ9bY4w-9KBqUcC1DhpA</td>\n",
       "      <td>نصابين وموقع سرق فلوس ولا يردو عليك ولا يرجعو لك المبلغ ونصيحتي لاحد يتعامل معهم... ناس لا ذمة ولا ضمير مجرد ردود الية بالواتس ورقم الخدمه مغلق والايميل يطنشوك وان رد عليك موظف يقولك رفعت شكوة وبس بدون حل. ماعليكم من التقييم المرتفع كلهم معارف للتطبيق... الموعد يوم الحساب يامحتالين</td>\n",
       "      <td>1</td>\n",
       "      <td>2</td>\n",
       "      <td>2.7.0</td>\n",
       "      <td>2022-11-02 15:47:21</td>\n",
       "      <td>عزيزى العميل نعتذر عن اى مشكلة واجهتك يرجى التواصل عن طريق الواتساب أو الاتصال او الإرسال المباشر عن طريق منصات التواصل الاجتماعي اوقات الدوام من ٩ صباحا حتى ١٢ مساء ويتم الرد على جميع المحادثات خلال اوقات العمل</td>\n",
       "      <td>2022-11-02 18:01:22</td>\n",
       "      <td>2022</td>\n",
       "      <td>Nisaben and the location of the stealing money and does not respond to you and do not return the amount for you and my advice to someone who deals with them ... People, no edema, no conscience, mere responses with WhatsApp and the service number is closed, and the email will confuse you, and if an employee replied to you, he says you raised suspicion and only a solution.What do you have from the high evaluation are all knowledge of the application ... The appointment is the day of reckoning</td>\n",
       "      <td>[{'label': 'NEGATIVE', 'score': 0.9994962215423584}]</td>\n",
       "      <td>NEGATIVE</td>\n",
       "    </tr>\n",
       "    <tr>\n",
       "      <th>4</th>\n",
       "      <td>a0cde39f-d8b2-4bd2-9620-8bed78fd0aee</td>\n",
       "      <td>Mhmd K</td>\n",
       "      <td>https://play-lh.googleusercontent.com/a/AEdFTp7lwppFX6yKhea_pdZeQJgaJKu8sNYNs20lB1dX=mo</td>\n",
       "      <td>It have every game but valorent</td>\n",
       "      <td>4</td>\n",
       "      <td>0</td>\n",
       "      <td>2.6.0</td>\n",
       "      <td>2022-10-12 11:41:35</td>\n",
       "      <td>None</td>\n",
       "      <td>NaT</td>\n",
       "      <td>2022</td>\n",
       "      <td>It have every game but valorant</td>\n",
       "      <td>[{'label': 'POSITIVE', 'score': 0.9942423701286316}]</td>\n",
       "      <td>POSITIVE</td>\n",
       "    </tr>\n",
       "  </tbody>\n",
       "</table>\n",
       "</div>"
      ],
      "text/plain": [
       "                               reviewId         userName  \\\n",
       "0  5b00d401-dad8-489b-8784-21e89ca10d8d            q_mly   \n",
       "1  164789b7-2ab2-493c-9feb-d9cf108a8594    Mohammed Adam   \n",
       "2  804b25bf-6f46-4a58-b708-d3e38b40ec6d       Asger Jorn   \n",
       "3  65ec6929-66c1-427d-9bd1-5e43134014c9  Mahmoud Abunada   \n",
       "4  a0cde39f-d8b2-4bd2-9620-8bed78fd0aee           Mhmd K   \n",
       "\n",
       "                                                                                 userImage  \\\n",
       "0  https://play-lh.googleusercontent.com/a-/AD5-WClrIL5SrkMlHnETuHeoKLq3fvFu8xB25vnQehzM_g   \n",
       "1  https://play-lh.googleusercontent.com/a/AEdFTp5JKmdnL33HnoLKQtwvPkd--BvQgeknzoe9liMy=mo   \n",
       "2  https://play-lh.googleusercontent.com/a-/AD5-WCnKXOvcDpo-_a9hEE5Rddi0vF1tXfdzOm6xEW83YA   \n",
       "3  https://play-lh.googleusercontent.com/a-/AD5-WClKijbSlAXoRBBysfL9bGgJ9bY4w-9KBqUcC1DhpA   \n",
       "4  https://play-lh.googleusercontent.com/a/AEdFTp7lwppFX6yKhea_pdZeQJgaJKu8sNYNs20lB1dX=mo   \n",
       "\n",
       "                                                                                                                                                                                                                                                                                      content  \\\n",
       "0                                                                                                                                                                                                                                      التطبيق حلو بس اتمنى قدر المستطاع توفير سوني 5 وتحياتي   \n",
       "1                                                                                                                                                                                                                                                                                انه جملة جدا   \n",
       "2                                                                                                                                                                                                           Ordered a TV and it's been 4 days and it's still not delivered. maybe it's a scam   \n",
       "3  نصابين وموقع سرق فلوس ولا يردو عليك ولا يرجعو لك المبلغ ونصيحتي لاحد يتعامل معهم... ناس لا ذمة ولا ضمير مجرد ردود الية بالواتس ورقم الخدمه مغلق والايميل يطنشوك وان رد عليك موظف يقولك رفعت شكوة وبس بدون حل. ماعليكم من التقييم المرتفع كلهم معارف للتطبيق... الموعد يوم الحساب يامحتالين   \n",
       "4                                                                                                                                                                                                                                                             It have every game but valorent   \n",
       "\n",
       "   score  thumbsUpCount reviewCreatedVersion                  at  \\\n",
       "0      5              0                2.2.0 2022-12-18 03:36:48   \n",
       "1      5              0                2.7.0 2022-11-15 22:58:19   \n",
       "2      3              0                2.7.0 2022-11-08 21:31:01   \n",
       "3      1              2                2.7.0 2022-11-02 15:47:21   \n",
       "4      4              0                2.6.0 2022-10-12 11:41:35   \n",
       "\n",
       "                                                                                                                                                                                                          replyContent  \\\n",
       "0                                                                                                                                                         يعطيك العافية، متوفر حزم متنوعة حاليا بالتطبيق للبلايستيشن 5   \n",
       "1                                                                                                                                                                                                شكرا لك على التقييم 😍   \n",
       "2                                                                                                                                   kindly send the order number or your mobile number to solve it as soon as possible   \n",
       "3  عزيزى العميل نعتذر عن اى مشكلة واجهتك يرجى التواصل عن طريق الواتساب أو الاتصال او الإرسال المباشر عن طريق منصات التواصل الاجتماعي اوقات الدوام من ٩ صباحا حتى ١٢ مساء ويتم الرد على جميع المحادثات خلال اوقات العمل   \n",
       "4                                                                                                                                                                                                                 None   \n",
       "\n",
       "            repliedAt  Year  \\\n",
       "0 2022-12-18 04:57:22  2022   \n",
       "1 2022-11-16 00:04:06  2022   \n",
       "2 2022-11-10 12:15:01  2022   \n",
       "3 2022-11-02 18:01:22  2022   \n",
       "4                 NaT  2022   \n",
       "\n",
       "                                                                                                                                                                                                                                                                                                                                                                                                                                                                                                        translated  \\\n",
       "0                                                                                                                                                                                                                                                                                                                                                                                                                      The application is sweet, but I hope as much as possible to provide Sony 5 and my greetings   \n",
       "1                                                                                                                                                                                                                                                                                                                                                                                                                                                                                            It is a very sentence   \n",
       "2                                                                                                                                                                                                                                                                                                                                                                                                                                Ordered a TV and it's been 4 days and it's still not delivered. maybe it's a scam   \n",
       "3  Nisaben and the location of the stealing money and does not respond to you and do not return the amount for you and my advice to someone who deals with them ... People, no edema, no conscience, mere responses with WhatsApp and the service number is closed, and the email will confuse you, and if an employee replied to you, he says you raised suspicion and only a solution.What do you have from the high evaluation are all knowledge of the application ... The appointment is the day of reckoning   \n",
       "4                                                                                                                                                                                                                                                                                                                                                                                                                                                                                  It have every game but valorant   \n",
       "\n",
       "                                                 Result Sentiment  \n",
       "0  [{'label': 'POSITIVE', 'score': 0.9978867173194885}]  POSITIVE  \n",
       "1  [{'label': 'NEGATIVE', 'score': 0.9853544235229492}]  NEGATIVE  \n",
       "2  [{'label': 'NEGATIVE', 'score': 0.9995014667510986}]  NEGATIVE  \n",
       "3  [{'label': 'NEGATIVE', 'score': 0.9994962215423584}]  NEGATIVE  \n",
       "4  [{'label': 'POSITIVE', 'score': 0.9942423701286316}]  POSITIVE  "
      ]
     },
     "execution_count": 157,
     "metadata": {},
     "output_type": "execute_result"
    }
   ],
   "source": [
    "df.head()"
   ]
  },
  {
   "cell_type": "code",
   "execution_count": 158,
   "id": "6ac3b212",
   "metadata": {},
   "outputs": [
    {
     "data": {
      "text/plain": [
       "4.0"
      ]
     },
     "execution_count": 158,
     "metadata": {},
     "output_type": "execute_result"
    }
   ],
   "source": [
    "df['score'].median()"
   ]
  },
  {
   "cell_type": "code",
   "execution_count": null,
   "id": "ec9f233e",
   "metadata": {},
   "outputs": [],
   "source": [
    "### Average google review rating for this scrapped dataset is 4.0"
   ]
  },
  {
   "cell_type": "code",
   "execution_count": 18,
   "id": "43f51536",
   "metadata": {},
   "outputs": [],
   "source": [
    "## For sentiment analysis, we will use the following model.\n",
    "## Link: https://huggingface.co/siebert/sentiment-roberta-large-english\n",
    "from transformers import pipeline \n",
    "sentiment = pipeline(\"sentiment-analysis\", model = 'siebert/sentiment-roberta-large-english')"
   ]
  },
  {
   "cell_type": "code",
   "execution_count": 23,
   "id": "be3eb6df",
   "metadata": {},
   "outputs": [],
   "source": [
    "### Making sure the review is in string format, all the reviews are in the column 'content'\n",
    "df['content'] = df['content'].astype('str')"
   ]
  },
  {
   "cell_type": "code",
   "execution_count": 62,
   "id": "e1f68d57",
   "metadata": {},
   "outputs": [],
   "source": [
    "## Create a new column to see if the review is positive or negative.\n",
    "df['Result'] = df['translated'].apply(lambda x: sentiment(x))"
   ]
  },
  {
   "cell_type": "code",
   "execution_count": 64,
   "id": "9c761ba6",
   "metadata": {},
   "outputs": [],
   "source": [
    "## Extracting the value, either POSITIVE or NEGATIVE\n",
    "df['Sentiment'] = df['Result'].apply(lambda x:x[0]['label'])"
   ]
  },
  {
   "cell_type": "code",
   "execution_count": 70,
   "id": "7c275d55",
   "metadata": {},
   "outputs": [
    {
     "data": {
      "text/plain": [
       "POSITIVE    103\n",
       "NEGATIVE     94\n",
       "Name: Sentiment, dtype: int64"
      ]
     },
     "execution_count": 70,
     "metadata": {},
     "output_type": "execute_result"
    }
   ],
   "source": [
    "## See the total counts of positive and negative values.\n",
    "df['Sentiment'].value_counts()"
   ]
  },
  {
   "cell_type": "code",
   "execution_count": 71,
   "id": "6a810e4b",
   "metadata": {},
   "outputs": [
    {
     "data": {
      "text/plain": [
       "POSITIVE    0.522843\n",
       "NEGATIVE    0.477157\n",
       "Name: Sentiment, dtype: float64"
      ]
     },
     "execution_count": 71,
     "metadata": {},
     "output_type": "execute_result"
    }
   ],
   "source": [
    "## See the percentage of positive and negative values.\n",
    "df['Sentiment'].value_counts(normalize = True)"
   ]
  },
  {
   "cell_type": "code",
   "execution_count": 72,
   "id": "75c6ecb5",
   "metadata": {},
   "outputs": [
    {
     "data": {
      "image/png": "[encoded data removed]",
      "text/plain": [
       "<Figure size 400x400 with 1 Axes>"
      ]
     },
     "metadata": {},
     "output_type": "display_data"
    }
   ],
   "source": [
    "##Plotting a pie chart to visualise the percentage of Positive and Negative reviews.\n",
    "import matplotlib.pyplot as plt\n",
    "pie_ = df['Sentiment'].value_counts(normalize = True)\n",
    "fig, ax = plt.subplots(figsize=(4, 4))\n",
    "labels = ['positive', 'negative']\n",
    "\n",
    "plt.pie(pie_, labels=labels, autopct='%.2f%%')\n",
    "ax.set_title('Positive and negative proportion')\n",
    "plt.tight_layout()"
   ]
  },
  {
   "cell_type": "code",
   "execution_count": 73,
   "id": "c38699ad",
   "metadata": {},
   "outputs": [],
   "source": [
    "df.to_csv('sentiment_analysis.csv')"
   ]
  },
  {
   "cell_type": "code",
   "execution_count": null,
   "id": "a0d50e61",
   "metadata": {},
   "outputs": [],
   "source": [
    "## Here we can have a look of all those labelled as NEGATIVE. "
   ]
  },
  {
   "cell_type": "code",
   "execution_count": 75,
   "id": "6889452c",
   "metadata": {},
   "outputs": [
    {
     "data": {
      "text/html": [
       "<div>\n",
       "<style scoped>\n",
       "    .dataframe tbody tr th:only-of-type {\n",
       "        vertical-align: middle;\n",
       "    }\n",
       "\n",
       "    .dataframe tbody tr th {\n",
       "        vertical-align: top;\n",
       "    }\n",
       "\n",
       "    .dataframe thead th {\n",
       "        text-align: right;\n",
       "    }\n",
       "</style>\n",
       "<table border=\"1\" class=\"dataframe\">\n",
       "  <thead>\n",
       "    <tr style=\"text-align: right;\">\n",
       "      <th></th>\n",
       "      <th>reviewId</th>\n",
       "      <th>userName</th>\n",
       "      <th>userImage</th>\n",
       "      <th>content</th>\n",
       "      <th>score</th>\n",
       "      <th>thumbsUpCount</th>\n",
       "      <th>reviewCreatedVersion</th>\n",
       "      <th>at</th>\n",
       "      <th>replyContent</th>\n",
       "      <th>repliedAt</th>\n",
       "      <th>Year</th>\n",
       "      <th>translated</th>\n",
       "      <th>Result</th>\n",
       "      <th>Sentiment</th>\n",
       "    </tr>\n",
       "  </thead>\n",
       "  <tbody>\n",
       "    <tr>\n",
       "      <th>1</th>\n",
       "      <td>164789b7-2ab2-493c-9feb-d9cf108a8594</td>\n",
       "      <td>Mohammed Adam</td>\n",
       "      <td>https://play-lh.googleusercontent.com/a/AEdFTp5JKmdnL33HnoLKQtwvPkd--BvQgeknzoe9liMy=mo</td>\n",
       "      <td>انه جملة جدا</td>\n",
       "      <td>5</td>\n",
       "      <td>0</td>\n",
       "      <td>2.7.0</td>\n",
       "      <td>2022-11-15 22:58:19</td>\n",
       "      <td>شكرا لك على التقييم 😍</td>\n",
       "      <td>2022-11-16 00:04:06</td>\n",
       "      <td>2022</td>\n",
       "      <td>It is a very sentence</td>\n",
       "      <td>[{'label': 'NEGATIVE', 'score': 0.9853544235229492}]</td>\n",
       "      <td>NEGATIVE</td>\n",
       "    </tr>\n",
       "    <tr>\n",
       "      <th>2</th>\n",
       "      <td>804b25bf-6f46-4a58-b708-d3e38b40ec6d</td>\n",
       "      <td>Asger Jorn</td>\n",
       "      <td>https://play-lh.googleusercontent.com/a-/AD5-WCnKXOvcDpo-_a9hEE5Rddi0vF1tXfdzOm6xEW83YA</td>\n",
       "      <td>Ordered a TV and it's been 4 days and it's still not delivered. maybe it's a scam</td>\n",
       "      <td>3</td>\n",
       "      <td>0</td>\n",
       "      <td>2.7.0</td>\n",
       "      <td>2022-11-08 21:31:01</td>\n",
       "      <td>kindly send the order number or your mobile number to solve it as soon as possible</td>\n",
       "      <td>2022-11-10 12:15:01</td>\n",
       "      <td>2022</td>\n",
       "      <td>Ordered a TV and it's been 4 days and it's still not delivered. maybe it's a scam</td>\n",
       "      <td>[{'label': 'NEGATIVE', 'score': 0.9995014667510986}]</td>\n",
       "      <td>NEGATIVE</td>\n",
       "    </tr>\n",
       "    <tr>\n",
       "      <th>3</th>\n",
       "      <td>65ec6929-66c1-427d-9bd1-5e43134014c9</td>\n",
       "      <td>Mahmoud Abunada</td>\n",
       "      <td>https://play-lh.googleusercontent.com/a-/AD5-WClKijbSlAXoRBBysfL9bGgJ9bY4w-9KBqUcC1DhpA</td>\n",
       "      <td>نصابين وموقع سرق فلوس ولا يردو عليك ولا يرجعو لك المبلغ ونصيحتي لاحد يتعامل معهم... ناس لا ذمة ولا ضمير مجرد ردود الية بالواتس ورقم الخدمه مغلق والايميل يطنشوك وان رد عليك موظف يقولك رفعت شكوة وبس بدون حل. ماعليكم من التقييم المرتفع كلهم معارف للتطبيق... الموعد يوم الحساب يامحتالين</td>\n",
       "      <td>1</td>\n",
       "      <td>2</td>\n",
       "      <td>2.7.0</td>\n",
       "      <td>2022-11-02 15:47:21</td>\n",
       "      <td>عزيزى العميل نعتذر عن اى مشكلة واجهتك يرجى التواصل عن طريق الواتساب أو الاتصال او الإرسال المباشر عن طريق منصات التواصل الاجتماعي اوقات الدوام من ٩ صباحا حتى ١٢ مساء ويتم الرد على جميع المحادثات خلال اوقات العمل</td>\n",
       "      <td>2022-11-02 18:01:22</td>\n",
       "      <td>2022</td>\n",
       "      <td>Nisaben and the location of the stealing money and does not respond to you and do not return the amount for you and my advice to someone who deals with them ... People, no edema, no conscience, mere responses with WhatsApp and the service number is closed, and the email will confuse you, and if an employee replied to you, he says you raised suspicion and only a solution.What do you have from the high evaluation are all knowledge of the application ... The appointment is the day of reckoning</td>\n",
       "      <td>[{'label': 'NEGATIVE', 'score': 0.9994962215423584}]</td>\n",
       "      <td>NEGATIVE</td>\n",
       "    </tr>\n",
       "    <tr>\n",
       "      <th>5</th>\n",
       "      <td>9880e6a7-4105-4352-bf50-e59cd59921e4</td>\n",
       "      <td>hacker gamer marocoo</td>\n",
       "      <td>https://play-lh.googleusercontent.com/a-/AD5-WCnjcm_gOfRvCjjn6lZwYQfUyxzj2sC2dcClu06Y</td>\n",
       "      <td>Stumble guys pls</td>\n",
       "      <td>1</td>\n",
       "      <td>0</td>\n",
       "      <td>2.5.0</td>\n",
       "      <td>2022-10-09 00:10:13</td>\n",
       "      <td>None</td>\n",
       "      <td>NaT</td>\n",
       "      <td>2022</td>\n",
       "      <td>Stumble guys pls</td>\n",
       "      <td>[{'label': 'NEGATIVE', 'score': 0.9864626526832581}]</td>\n",
       "      <td>NEGATIVE</td>\n",
       "    </tr>\n",
       "    <tr>\n",
       "      <th>6</th>\n",
       "      <td>d29dfcbf-8913-4194-9732-5dfbffe47008</td>\n",
       "      <td>Mouamel Muslem</td>\n",
       "      <td>https://play-lh.googleusercontent.com/a-/AD5-WCm2o1S05s2q-Fu-Q7lNP8jBWz6pEQBA6kp5DajS_A</td>\n",
       "      <td>I can't change my profile pic !!</td>\n",
       "      <td>2</td>\n",
       "      <td>0</td>\n",
       "      <td>2.5.0</td>\n",
       "      <td>2022-10-05 08:30:25</td>\n",
       "      <td>None</td>\n",
       "      <td>NaT</td>\n",
       "      <td>2022</td>\n",
       "      <td>I can't change my profile pic !!</td>\n",
       "      <td>[{'label': 'NEGATIVE', 'score': 0.9957908391952515}]</td>\n",
       "      <td>NEGATIVE</td>\n",
       "    </tr>\n",
       "    <tr>\n",
       "      <th>...</th>\n",
       "      <td>...</td>\n",
       "      <td>...</td>\n",
       "      <td>...</td>\n",
       "      <td>...</td>\n",
       "      <td>...</td>\n",
       "      <td>...</td>\n",
       "      <td>...</td>\n",
       "      <td>...</td>\n",
       "      <td>...</td>\n",
       "      <td>...</td>\n",
       "      <td>...</td>\n",
       "      <td>...</td>\n",
       "      <td>...</td>\n",
       "      <td>...</td>\n",
       "    </tr>\n",
       "    <tr>\n",
       "      <th>184</th>\n",
       "      <td>94f1e95c-9dd7-4af8-a451-2b11e5593630</td>\n",
       "      <td>Mrs Arif</td>\n",
       "      <td>https://play-lh.googleusercontent.com/a/AEdFTp47oIkFx3vNhK_aPV3t2s87HY_EUA0hqddJUwxZ=mo</td>\n",
       "      <td>ITS AWESOME BUT. I DIDNT GOT MY GIFT OF 25 SAR WT EVER IT WAS. SO THTS RUDE.</td>\n",
       "      <td>2</td>\n",
       "      <td>1</td>\n",
       "      <td>1.0.8</td>\n",
       "      <td>2020-07-24 07:07:56</td>\n",
       "      <td>Hi Mrs. Arif, We're really sorry you were not able to use the coupon. if you tell us your experience in details we will definitely help you out. here is our Whatsapp number: +966 55 088 0655. Please don't hesitate to contact us. In case we could solve your problem, please come back to update your rating for a better one :)</td>\n",
       "      <td>2020-07-26 16:13:03</td>\n",
       "      <td>2020</td>\n",
       "      <td>ITS AWESOME BUT. I DIDN'T GET MY GIFT OF 25 SAR WT EVER IT WAS. SO THAT'S RUDE.</td>\n",
       "      <td>[{'label': 'NEGATIVE', 'score': 0.993513286113739}]</td>\n",
       "      <td>NEGATIVE</td>\n",
       "    </tr>\n",
       "    <tr>\n",
       "      <th>185</th>\n",
       "      <td>c1858f57-14af-483a-af1e-f3c5c7d48630</td>\n",
       "      <td>قصص خياليه</td>\n",
       "      <td>https://play-lh.googleusercontent.com/a-/AD5-WCmjlnLKiKBCBaHXnPls_x01ggFneP45d8aDFyVFng</td>\n",
       "      <td>خرا</td>\n",
       "      <td>1</td>\n",
       "      <td>2</td>\n",
       "      <td>None</td>\n",
       "      <td>2020-07-22 23:32:51</td>\n",
       "      <td>:(</td>\n",
       "      <td>2020-07-26 16:26:29</td>\n",
       "      <td>2020</td>\n",
       "      <td>it's bad</td>\n",
       "      <td>[{'label': 'NEGATIVE', 'score': 0.9994187355041504}]</td>\n",
       "      <td>NEGATIVE</td>\n",
       "    </tr>\n",
       "    <tr>\n",
       "      <th>190</th>\n",
       "      <td>2254e3bf-f671-411e-8118-ee52ac4d3489</td>\n",
       "      <td>Đŕ. ĒvïŁ</td>\n",
       "      <td>https://play-lh.googleusercontent.com/a-/AD5-WCk6K6yUyehM4OZO5oMbaaCF3AQbzRC6ebt4AnT6</td>\n",
       "      <td>إعلان وهمي عن تحميل التطبيق و الإشتراك و من ثم يتم إضافة ٢٥ ريال في المحفظة لكن بعد الإشتراك يتضح أنه يجب الشراء بأكثر من ٢٥٠ ريال و إستخدام كوبون خصم !</td>\n",
       "      <td>1</td>\n",
       "      <td>6</td>\n",
       "      <td>1.0.5</td>\n",
       "      <td>2020-06-27 05:05:08</td>\n",
       "      <td>نحن آسفين جداّ لعدم تمكنك من استخدام الكوبون. الرجاء اتباع الخطوات الصحيحة:\\nأولاً قم بأنشاء حساب\\nستتلقى رمز الكوبون في بريدك الإلكتروني وكاشعار على هاتفك\\nتأكد من تسجيل الدخول عند محاولة استخدام الرمز\\nلا يمكنك استخدام الكوبون إلا إذا كانت قيمة طلبك أعلى من 250 ريال كما تم التواصل معك في البريد الإلكتروني\\nشكرًا لتعليقاتك ونأمل أن نكون قد ساعدناك.</td>\n",
       "      <td>2020-07-12 16:23:58</td>\n",
       "      <td>2020</td>\n",
       "      <td>A fake advertisement on downloading the application and subscription, and then 25 riyals are added in the wallet, but after subscription it is clear that it is necessary to buy more than 250 riyals and use a discount coupon!</td>\n",
       "      <td>[{'label': 'NEGATIVE', 'score': 0.9992825388908386}]</td>\n",
       "      <td>NEGATIVE</td>\n",
       "    </tr>\n",
       "    <tr>\n",
       "      <th>192</th>\n",
       "      <td>b7c6c688-0b70-437f-ac2d-163b8de8baaa</td>\n",
       "      <td>Jahara Bagum</td>\n",
       "      <td>https://play-lh.googleusercontent.com/a/AEdFTp4tusSYZ1NMgMaWHzmgK_d3DVBaGttN2No2wZnu=mo</td>\n",
       "      <td>I cant open the app please fix</td>\n",
       "      <td>1</td>\n",
       "      <td>6</td>\n",
       "      <td>1.0.4</td>\n",
       "      <td>2020-06-22 12:52:54</td>\n",
       "      <td>Hi Jahara, sorry to hear that you've encountered that rare bug. Tell us about your device brand, model and operating system. Our developers will be on it, we kindly request you to wait for our next release.</td>\n",
       "      <td>2020-07-22 00:40:45</td>\n",
       "      <td>2020</td>\n",
       "      <td>I cant open the app please fix</td>\n",
       "      <td>[{'label': 'NEGATIVE', 'score': 0.9993403553962708}]</td>\n",
       "      <td>NEGATIVE</td>\n",
       "    </tr>\n",
       "    <tr>\n",
       "      <th>193</th>\n",
       "      <td>3efe7f3a-72af-40fc-9c52-352e03560b20</td>\n",
       "      <td>Anarchist Alhazen</td>\n",
       "      <td>https://play-lh.googleusercontent.com/a-/AD5-WClu2FqC6_gVmp3bIhakAhkIfWZG_2sopnTDCYYew8w</td>\n",
       "      <td>No promised 25 gift!</td>\n",
       "      <td>1</td>\n",
       "      <td>4</td>\n",
       "      <td>1.0.3</td>\n",
       "      <td>2020-06-14 16:09:44</td>\n",
       "      <td>None</td>\n",
       "      <td>NaT</td>\n",
       "      <td>2020</td>\n",
       "      <td>No promised 25 gift!</td>\n",
       "      <td>[{'label': 'NEGATIVE', 'score': 0.9976441264152527}]</td>\n",
       "      <td>NEGATIVE</td>\n",
       "    </tr>\n",
       "  </tbody>\n",
       "</table>\n",
       "<p>94 rows × 14 columns</p>\n",
       "</div>"
      ],
      "text/plain": [
       "                                 reviewId              userName  \\\n",
       "1    164789b7-2ab2-493c-9feb-d9cf108a8594         Mohammed Adam   \n",
       "2    804b25bf-6f46-4a58-b708-d3e38b40ec6d            Asger Jorn   \n",
       "3    65ec6929-66c1-427d-9bd1-5e43134014c9       Mahmoud Abunada   \n",
       "5    9880e6a7-4105-4352-bf50-e59cd59921e4  hacker gamer marocoo   \n",
       "6    d29dfcbf-8913-4194-9732-5dfbffe47008        Mouamel Muslem   \n",
       "..                                    ...                   ...   \n",
       "184  94f1e95c-9dd7-4af8-a451-2b11e5593630              Mrs Arif   \n",
       "185  c1858f57-14af-483a-af1e-f3c5c7d48630            قصص خياليه   \n",
       "190  2254e3bf-f671-411e-8118-ee52ac4d3489              Đŕ. ĒvïŁ   \n",
       "192  b7c6c688-0b70-437f-ac2d-163b8de8baaa          Jahara Bagum   \n",
       "193  3efe7f3a-72af-40fc-9c52-352e03560b20     Anarchist Alhazen   \n",
       "\n",
       "                                                                                    userImage  \\\n",
       "1     https://play-lh.googleusercontent.com/a/AEdFTp5JKmdnL33HnoLKQtwvPkd--BvQgeknzoe9liMy=mo   \n",
       "2     https://play-lh.googleusercontent.com/a-/AD5-WCnKXOvcDpo-_a9hEE5Rddi0vF1tXfdzOm6xEW83YA   \n",
       "3     https://play-lh.googleusercontent.com/a-/AD5-WClKijbSlAXoRBBysfL9bGgJ9bY4w-9KBqUcC1DhpA   \n",
       "5       https://play-lh.googleusercontent.com/a-/AD5-WCnjcm_gOfRvCjjn6lZwYQfUyxzj2sC2dcClu06Y   \n",
       "6     https://play-lh.googleusercontent.com/a-/AD5-WCm2o1S05s2q-Fu-Q7lNP8jBWz6pEQBA6kp5DajS_A   \n",
       "..                                                                                        ...   \n",
       "184   https://play-lh.googleusercontent.com/a/AEdFTp47oIkFx3vNhK_aPV3t2s87HY_EUA0hqddJUwxZ=mo   \n",
       "185   https://play-lh.googleusercontent.com/a-/AD5-WCmjlnLKiKBCBaHXnPls_x01ggFneP45d8aDFyVFng   \n",
       "190     https://play-lh.googleusercontent.com/a-/AD5-WCk6K6yUyehM4OZO5oMbaaCF3AQbzRC6ebt4AnT6   \n",
       "192   https://play-lh.googleusercontent.com/a/AEdFTp4tusSYZ1NMgMaWHzmgK_d3DVBaGttN2No2wZnu=mo   \n",
       "193  https://play-lh.googleusercontent.com/a-/AD5-WClu2FqC6_gVmp3bIhakAhkIfWZG_2sopnTDCYYew8w   \n",
       "\n",
       "                                                                                                                                                                                                                                                                                        content  \\\n",
       "1                                                                                                                                                                                                                                                                                  انه جملة جدا   \n",
       "2                                                                                                                                                                                                             Ordered a TV and it's been 4 days and it's still not delivered. maybe it's a scam   \n",
       "3    نصابين وموقع سرق فلوس ولا يردو عليك ولا يرجعو لك المبلغ ونصيحتي لاحد يتعامل معهم... ناس لا ذمة ولا ضمير مجرد ردود الية بالواتس ورقم الخدمه مغلق والايميل يطنشوك وان رد عليك موظف يقولك رفعت شكوة وبس بدون حل. ماعليكم من التقييم المرتفع كلهم معارف للتطبيق... الموعد يوم الحساب يامحتالين   \n",
       "5                                                                                                                                                                                                                                                                              Stumble guys pls   \n",
       "6                                                                                                                                                                                                                                                              I can't change my profile pic !!   \n",
       "..                                                                                                                                                                                                                                                                                          ...   \n",
       "184                                                                                                                                                                                                                ITS AWESOME BUT. I DIDNT GOT MY GIFT OF 25 SAR WT EVER IT WAS. SO THTS RUDE.   \n",
       "185                                                                                                                                                                                                                                                                                         خرا   \n",
       "190                                                                                                                                    إعلان وهمي عن تحميل التطبيق و الإشتراك و من ثم يتم إضافة ٢٥ ريال في المحفظة لكن بعد الإشتراك يتضح أنه يجب الشراء بأكثر من ٢٥٠ ريال و إستخدام كوبون خصم !   \n",
       "192                                                                                                                                                                                                                                                              I cant open the app please fix   \n",
       "193                                                                                                                                                                                                                                                                        No promised 25 gift!   \n",
       "\n",
       "     score  thumbsUpCount reviewCreatedVersion                  at  \\\n",
       "1        5              0                2.7.0 2022-11-15 22:58:19   \n",
       "2        3              0                2.7.0 2022-11-08 21:31:01   \n",
       "3        1              2                2.7.0 2022-11-02 15:47:21   \n",
       "5        1              0                2.5.0 2022-10-09 00:10:13   \n",
       "6        2              0                2.5.0 2022-10-05 08:30:25   \n",
       "..     ...            ...                  ...                 ...   \n",
       "184      2              1                1.0.8 2020-07-24 07:07:56   \n",
       "185      1              2                 None 2020-07-22 23:32:51   \n",
       "190      1              6                1.0.5 2020-06-27 05:05:08   \n",
       "192      1              6                1.0.4 2020-06-22 12:52:54   \n",
       "193      1              4                1.0.3 2020-06-14 16:09:44   \n",
       "\n",
       "                                                                                                                                                                                                                                                                                                                                                        replyContent  \\\n",
       "1                                                                                                                                                                                                                                                                                                                                              شكرا لك على التقييم 😍   \n",
       "2                                                                                                                                                                                                                                                                                 kindly send the order number or your mobile number to solve it as soon as possible   \n",
       "3                                                                                                                                                عزيزى العميل نعتذر عن اى مشكلة واجهتك يرجى التواصل عن طريق الواتساب أو الاتصال او الإرسال المباشر عن طريق منصات التواصل الاجتماعي اوقات الدوام من ٩ صباحا حتى ١٢ مساء ويتم الرد على جميع المحادثات خلال اوقات العمل   \n",
       "5                                                                                                                                                                                                                                                                                                                                                               None   \n",
       "6                                                                                                                                                                                                                                                                                                                                                               None   \n",
       "..                                                                                                                                                                                                                                                                                                                                                               ...   \n",
       "184                             Hi Mrs. Arif, We're really sorry you were not able to use the coupon. if you tell us your experience in details we will definitely help you out. here is our Whatsapp number: +966 55 088 0655. Please don't hesitate to contact us. In case we could solve your problem, please come back to update your rating for a better one :)   \n",
       "185                                                                                                                                                                                                                                                                                                                                                               :(   \n",
       "190  نحن آسفين جداّ لعدم تمكنك من استخدام الكوبون. الرجاء اتباع الخطوات الصحيحة:\\nأولاً قم بأنشاء حساب\\nستتلقى رمز الكوبون في بريدك الإلكتروني وكاشعار على هاتفك\\nتأكد من تسجيل الدخول عند محاولة استخدام الرمز\\nلا يمكنك استخدام الكوبون إلا إذا كانت قيمة طلبك أعلى من 250 ريال كما تم التواصل معك في البريد الإلكتروني\\nشكرًا لتعليقاتك ونأمل أن نكون قد ساعدناك.   \n",
       "192                                                                                                                                                   Hi Jahara, sorry to hear that you've encountered that rare bug. Tell us about your device brand, model and operating system. Our developers will be on it, we kindly request you to wait for our next release.   \n",
       "193                                                                                                                                                                                                                                                                                                                                                             None   \n",
       "\n",
       "              repliedAt  Year  \\\n",
       "1   2022-11-16 00:04:06  2022   \n",
       "2   2022-11-10 12:15:01  2022   \n",
       "3   2022-11-02 18:01:22  2022   \n",
       "5                   NaT  2022   \n",
       "6                   NaT  2022   \n",
       "..                  ...   ...   \n",
       "184 2020-07-26 16:13:03  2020   \n",
       "185 2020-07-26 16:26:29  2020   \n",
       "190 2020-07-12 16:23:58  2020   \n",
       "192 2020-07-22 00:40:45  2020   \n",
       "193                 NaT  2020   \n",
       "\n",
       "                                                                                                                                                                                                                                                                                                                                                                                                                                                                                                          translated  \\\n",
       "1                                                                                                                                                                                                                                                                                                                                                                                                                                                                                              It is a very sentence   \n",
       "2                                                                                                                                                                                                                                                                                                                                                                                                                                  Ordered a TV and it's been 4 days and it's still not delivered. maybe it's a scam   \n",
       "3    Nisaben and the location of the stealing money and does not respond to you and do not return the amount for you and my advice to someone who deals with them ... People, no edema, no conscience, mere responses with WhatsApp and the service number is closed, and the email will confuse you, and if an employee replied to you, he says you raised suspicion and only a solution.What do you have from the high evaluation are all knowledge of the application ... The appointment is the day of reckoning   \n",
       "5                                                                                                                                                                                                                                                                                                                                                                                                                                                                                                   Stumble guys pls   \n",
       "6                                                                                                                                                                                                                                                                                                                                                                                                                                                                                   I can't change my profile pic !!   \n",
       "..                                                                                                                                                                                                                                                                                                                                                                                                                                                                                                               ...   \n",
       "184                                                                                                                                                                                                                                                                                                                                                                                                                                  ITS AWESOME BUT. I DIDN'T GET MY GIFT OF 25 SAR WT EVER IT WAS. SO THAT'S RUDE.   \n",
       "185                                                                                                                                                                                                                                                                                                                                                                                                                                                                                                         it's bad   \n",
       "190                                                                                                                                                                                                                                                                                 A fake advertisement on downloading the application and subscription, and then 25 riyals are added in the wallet, but after subscription it is clear that it is necessary to buy more than 250 riyals and use a discount coupon!   \n",
       "192                                                                                                                                                                                                                                                                                                                                                                                                                                                                                   I cant open the app please fix   \n",
       "193                                                                                                                                                                                                                                                                                                                                                                                                                                                                                             No promised 25 gift!   \n",
       "\n",
       "                                                   Result Sentiment  \n",
       "1    [{'label': 'NEGATIVE', 'score': 0.9853544235229492}]  NEGATIVE  \n",
       "2    [{'label': 'NEGATIVE', 'score': 0.9995014667510986}]  NEGATIVE  \n",
       "3    [{'label': 'NEGATIVE', 'score': 0.9994962215423584}]  NEGATIVE  \n",
       "5    [{'label': 'NEGATIVE', 'score': 0.9864626526832581}]  NEGATIVE  \n",
       "6    [{'label': 'NEGATIVE', 'score': 0.9957908391952515}]  NEGATIVE  \n",
       "..                                                    ...       ...  \n",
       "184   [{'label': 'NEGATIVE', 'score': 0.993513286113739}]  NEGATIVE  \n",
       "185  [{'label': 'NEGATIVE', 'score': 0.9994187355041504}]  NEGATIVE  \n",
       "190  [{'label': 'NEGATIVE', 'score': 0.9992825388908386}]  NEGATIVE  \n",
       "192  [{'label': 'NEGATIVE', 'score': 0.9993403553962708}]  NEGATIVE  \n",
       "193  [{'label': 'NEGATIVE', 'score': 0.9976441264152527}]  NEGATIVE  \n",
       "\n",
       "[94 rows x 14 columns]"
      ]
     },
     "execution_count": 75,
     "metadata": {},
     "output_type": "execute_result"
    }
   ],
   "source": [
    "df[df['Sentiment'] == 'NEGATIVE']"
   ]
  },
  {
   "cell_type": "code",
   "execution_count": 76,
   "id": "9d16bb05",
   "metadata": {},
   "outputs": [
    {
     "data": {
      "text/plain": [
       "1    70\n",
       "5     9\n",
       "2     8\n",
       "4     4\n",
       "3     3\n",
       "Name: score, dtype: int64"
      ]
     },
     "execution_count": 76,
     "metadata": {},
     "output_type": "execute_result"
    }
   ],
   "source": [
    "df[df['Sentiment'] == 'NEGATIVE']['score'].value_counts()"
   ]
  },
  {
   "cell_type": "code",
   "execution_count": 77,
   "id": "a5c465bb",
   "metadata": {},
   "outputs": [],
   "source": [
    "## There are 9 'NEGATIVE' values with a rating of 5, and 4 values with a rating of 4. Inspect"
   ]
  },
  {
   "cell_type": "code",
   "execution_count": 79,
   "id": "97b0e8ea",
   "metadata": {},
   "outputs": [
    {
     "data": {
      "text/html": [
       "<div>\n",
       "<style scoped>\n",
       "    .dataframe tbody tr th:only-of-type {\n",
       "        vertical-align: middle;\n",
       "    }\n",
       "\n",
       "    .dataframe tbody tr th {\n",
       "        vertical-align: top;\n",
       "    }\n",
       "\n",
       "    .dataframe thead th {\n",
       "        text-align: right;\n",
       "    }\n",
       "</style>\n",
       "<table border=\"1\" class=\"dataframe\">\n",
       "  <thead>\n",
       "    <tr style=\"text-align: right;\">\n",
       "      <th></th>\n",
       "      <th>translated</th>\n",
       "    </tr>\n",
       "  </thead>\n",
       "  <tbody>\n",
       "    <tr>\n",
       "      <th>1</th>\n",
       "      <td>It is a very sentence</td>\n",
       "    </tr>\n",
       "    <tr>\n",
       "      <th>14</th>\n",
       "      <td>Higher prices xD</td>\n",
       "    </tr>\n",
       "    <tr>\n",
       "      <th>44</th>\n",
       "      <td>The app is terrible</td>\n",
       "    </tr>\n",
       "    <tr>\n",
       "      <th>45</th>\n",
       "      <td>IH</td>\n",
       "    </tr>\n",
       "    <tr>\n",
       "      <th>49</th>\n",
       "      <td>Ok</td>\n",
       "    </tr>\n",
       "    <tr>\n",
       "      <th>88</th>\n",
       "      <td>I am changing my review to 1 star from 5 star because of service and delay in my order. I preordered a PS5 game on 6th May...and still not delivered. Every week they inform they will deliver in few days but still I am waiting and it will be almost one month now. Extremely disappointing. I just want to cancel my order now. The game is already available in all markets but La3eb still struggling with the stocks! The game is already in stock in their app.</td>\n",
       "    </tr>\n",
       "    <tr>\n",
       "      <th>98</th>\n",
       "      <td>The prices for all of the stuff are all really expensive and overpriced</td>\n",
       "    </tr>\n",
       "    <tr>\n",
       "      <th>105</th>\n",
       "      <td>Just ordered PS5 and all the accessories with it, and I'm waiting.</td>\n",
       "    </tr>\n",
       "    <tr>\n",
       "      <th>148</th>\n",
       "      <td>Guest Paypal, please</td>\n",
       "    </tr>\n",
       "    <tr>\n",
       "      <th>166</th>\n",
       "      <td>I already preordered the ps5 from this site, but there is really weak service and when ever I message or email i never get a response</td>\n",
       "    </tr>\n",
       "    <tr>\n",
       "      <th>167</th>\n",
       "      <td>Then if Store Vin requests the code a message on my mobile or apply?!What does it guarantee that I will not steal? !!</td>\n",
       "    </tr>\n",
       "    <tr>\n",
       "      <th>178</th>\n",
       "      <td>There is nothing a google play card :/</td>\n",
       "    </tr>\n",
       "    <tr>\n",
       "      <th>183</th>\n",
       "      <td>pluck</td>\n",
       "    </tr>\n",
       "  </tbody>\n",
       "</table>\n",
       "</div>"
      ],
      "text/plain": [
       "                                                                                                                                                                                                                                                                                                                                                                                                                                                                  translated\n",
       "1                                                                                                                                                                                                                                                                                                                                                                                                                                                      It is a very sentence\n",
       "14                                                                                                                                                                                                                                                                                                                                                                                                                                                          Higher prices xD\n",
       "44                                                                                                                                                                                                                                                                                                                                                                                                                                                       The app is terrible\n",
       "45                                                                                                                                                                                                                                                                                                                                                                                                                                                                        IH\n",
       "49                                                                                                                                                                                                                                                                                                                                                                                                                                                                        Ok\n",
       "88   I am changing my review to 1 star from 5 star because of service and delay in my order. I preordered a PS5 game on 6th May...and still not delivered. Every week they inform they will deliver in few days but still I am waiting and it will be almost one month now. Extremely disappointing. I just want to cancel my order now. The game is already available in all markets but La3eb still struggling with the stocks! The game is already in stock in their app.\n",
       "98                                                                                                                                                                                                                                                                                                                                                                                                   The prices for all of the stuff are all really expensive and overpriced\n",
       "105                                                                                                                                                                                                                                                                                                                                                                                                       Just ordered PS5 and all the accessories with it, and I'm waiting.\n",
       "148                                                                                                                                                                                                                                                                                                                                                                                                                                                     Guest Paypal, please\n",
       "166                                                                                                                                                                                                                                                                                                                                    I already preordered the ps5 from this site, but there is really weak service and when ever I message or email i never get a response\n",
       "167                                                                                                                                                                                                                                                                                                                                                    Then if Store Vin requests the code a message on my mobile or apply?!What does it guarantee that I will not steal? !!\n",
       "178                                                                                                                                                                                                                                                                                                                                                                                                                                   There is nothing a google play card :/\n",
       "183                                                                                                                                                                                                                                                                                                                                                                                                                                                                    pluck"
      ]
     },
     "execution_count": 79,
     "metadata": {},
     "output_type": "execute_result"
    }
   ],
   "source": [
    "cond1 = df['Sentiment'] == 'NEGATIVE'\n",
    "cond2 = df['score'] > 3 \n",
    "check_review = df[cond1 & cond2]['translated']\n",
    "check_review = pd.DataFrame(check_review)\n",
    "pd.set_option('display.max_colwidth', None)\n",
    "check_review"
   ]
  },
  {
   "cell_type": "code",
   "execution_count": 85,
   "id": "cd186501",
   "metadata": {},
   "outputs": [],
   "source": [
    "## Seems like there are indeed some negative reviews despite the high rating. "
   ]
  },
  {
   "cell_type": "code",
   "execution_count": 81,
   "id": "2934ad8b",
   "metadata": {},
   "outputs": [
    {
     "data": {
      "text/plain": [
       "5    82\n",
       "4     9\n",
       "1     5\n",
       "3     4\n",
       "2     3\n",
       "Name: score, dtype: int64"
      ]
     },
     "execution_count": 81,
     "metadata": {},
     "output_type": "execute_result"
    }
   ],
   "source": [
    "### There are 5 'POSITIVE' reviews with a rating of 1 and 3 'POSITIVE' reviews with a rating of 2. Lets check it out.\n",
    "df[df['Sentiment'] == 'POSITIVE']['score'].value_counts()"
   ]
  },
  {
   "cell_type": "code",
   "execution_count": 83,
   "id": "cadb645a",
   "metadata": {},
   "outputs": [
    {
     "data": {
      "text/html": [
       "<div>\n",
       "<style scoped>\n",
       "    .dataframe tbody tr th:only-of-type {\n",
       "        vertical-align: middle;\n",
       "    }\n",
       "\n",
       "    .dataframe tbody tr th {\n",
       "        vertical-align: top;\n",
       "    }\n",
       "\n",
       "    .dataframe thead th {\n",
       "        text-align: right;\n",
       "    }\n",
       "</style>\n",
       "<table border=\"1\" class=\"dataframe\">\n",
       "  <thead>\n",
       "    <tr style=\"text-align: right;\">\n",
       "      <th></th>\n",
       "      <th>translated</th>\n",
       "    </tr>\n",
       "  </thead>\n",
       "  <tbody>\n",
       "    <tr>\n",
       "      <th>41</th>\n",
       "      <td>Khathanaan</td>\n",
       "    </tr>\n",
       "    <tr>\n",
       "      <th>84</th>\n",
       "      <td>Suddenly, the program stopped and worked</td>\n",
       "    </tr>\n",
       "    <tr>\n",
       "      <th>91</th>\n",
       "      <td>You guys have alot updates</td>\n",
       "    </tr>\n",
       "    <tr>\n",
       "      <th>135</th>\n",
       "      <td>A program that looks very wonderful, but if it supports the products in which the Qatar region will be the most wonderful, such as the store cards and others, I hope that you will add this service and thank you.</td>\n",
       "    </tr>\n",
       "    <tr>\n",
       "      <th>146</th>\n",
       "      <td>Apply what works</td>\n",
       "    </tr>\n",
       "    <tr>\n",
       "      <th>172</th>\n",
       "      <td>No PayPal pay option. Please add it as soon as possible. Thank you.</td>\n",
       "    </tr>\n",
       "    <tr>\n",
       "      <th>179</th>\n",
       "      <td>The Price to high, I thought I will see something different from the other shops, good luck and I wish if you give good Price for your customers</td>\n",
       "    </tr>\n",
       "    <tr>\n",
       "      <th>188</th>\n",
       "      <td>I hate how everyone can share their YouTube channel .. I have not found any player like me .. only people who want to share their channel</td>\n",
       "    </tr>\n",
       "  </tbody>\n",
       "</table>\n",
       "</div>"
      ],
      "text/plain": [
       "                                                                                                                                                                                                              translated\n",
       "41                                                                                                                                                                                                            Khathanaan\n",
       "84                                                                                                                                                                              Suddenly, the program stopped and worked\n",
       "91                                                                                                                                                                                            You guys have alot updates\n",
       "135  A program that looks very wonderful, but if it supports the products in which the Qatar region will be the most wonderful, such as the store cards and others, I hope that you will add this service and thank you.\n",
       "146                                                                                                                                                                                                     Apply what works\n",
       "172                                                                                                                                                  No PayPal pay option. Please add it as soon as possible. Thank you.\n",
       "179                                                                     The Price to high, I thought I will see something different from the other shops, good luck and I wish if you give good Price for your customers\n",
       "188                                                                            I hate how everyone can share their YouTube channel .. I have not found any player like me .. only people who want to share their channel"
      ]
     },
     "execution_count": 83,
     "metadata": {},
     "output_type": "execute_result"
    }
   ],
   "source": [
    "cond1 = df['Sentiment'] == 'POSITIVE'\n",
    "cond2 = df['score'] < 3 \n",
    "check_review_pos = df[cond1 & cond2]['translated']\n",
    "check_review_pos = pd.DataFrame(check_review_pos)\n",
    "pd.set_option('display.max_colwidth', None)\n",
    "check_review_pos"
   ]
  },
  {
   "cell_type": "code",
   "execution_count": 84,
   "id": "9ccd1e58",
   "metadata": {},
   "outputs": [],
   "source": [
    "### Seems like the low-rating-'POSITIVE' review is not a negative review after all."
   ]
  },
  {
   "cell_type": "code",
   "execution_count": 99,
   "id": "3f0c7daf",
   "metadata": {},
   "outputs": [
    {
     "name": "stdout",
     "output_type": "stream",
     "text": [
      "Collecting nltk\n",
      "  Downloading nltk-3.8-py3-none-any.whl (1.5 MB)\n",
      "     ---------------------------------------- 1.5/1.5 MB 2.7 MB/s eta 0:00:00\n",
      "Collecting joblib\n",
      "  Downloading joblib-1.2.0-py3-none-any.whl (297 kB)\n",
      "     -------------------------------------- 298.0/298.0 kB 6.1 MB/s eta 0:00:00\n",
      "Requirement already satisfied: tqdm in c:\\users\\sw\\anaconda\\envs\\tensorflow\\lib\\site-packages (from nltk) (4.64.1)\n",
      "Collecting click\n",
      "  Downloading click-8.1.3-py3-none-any.whl (96 kB)\n",
      "     ---------------------------------------- 96.6/96.6 kB 5.4 MB/s eta 0:00:00\n",
      "Requirement already satisfied: regex>=2021.8.3 in c:\\users\\sw\\anaconda\\envs\\tensorflow\\lib\\site-packages (from nltk) (2022.7.9)\n",
      "Requirement already satisfied: colorama in c:\\users\\sw\\anaconda\\envs\\tensorflow\\lib\\site-packages (from click->nltk) (0.4.5)\n",
      "Installing collected packages: joblib, click, nltk\n",
      "Successfully installed click-8.1.3 joblib-1.2.0 nltk-3.8\n"
     ]
    }
   ],
   "source": [
    "## Installing stopwords to see which words appeared most in both positive and negative review.\n",
    "!pip install nltk\n",
    "from nltk.corpus import stopwords"
   ]
  },
  {
   "cell_type": "code",
   "execution_count": 102,
   "id": "6498c72a",
   "metadata": {},
   "outputs": [
    {
     "name": "stderr",
     "output_type": "stream",
     "text": [
      "[nltk_data] Downloading package stopwords to\n",
      "[nltk_data]     C:\\Users\\SW\\AppData\\Roaming\\nltk_data...\n",
      "[nltk_data]   Unzipping corpora\\stopwords.zip.\n"
     ]
    },
    {
     "data": {
      "text/plain": [
       "True"
      ]
     },
     "execution_count": 102,
     "metadata": {},
     "output_type": "execute_result"
    }
   ],
   "source": [
    "import nltk\n",
    "nltk.download('stopwords')"
   ]
  },
  {
   "cell_type": "code",
   "execution_count": 105,
   "id": "fa88124e",
   "metadata": {},
   "outputs": [],
   "source": [
    "stopwords = stopwords.words('english')"
   ]
  },
  {
   "cell_type": "code",
   "execution_count": 121,
   "id": "0c70184c",
   "metadata": {},
   "outputs": [],
   "source": [
    "import re\n",
    "from collections import defaultdict"
   ]
  },
  {
   "cell_type": "code",
   "execution_count": 146,
   "id": "9a49f0b7",
   "metadata": {},
   "outputs": [],
   "source": [
    "## Getting all the negative reviews into a list.\n",
    "neg_df = df[df['Sentiment'] == 'NEGATIVE']\n",
    "neg_list = neg_df['translated'].to_list()"
   ]
  },
  {
   "cell_type": "code",
   "execution_count": 136,
   "id": "cf10d1e7",
   "metadata": {},
   "outputs": [],
   "source": [
    "## Counting the number of words appearead in the negative df\n",
    "dicti = defaultdict()\n",
    "for sentence in neg_list:\n",
    "    regex = re.sub(r'[^A-Za-z0-9\\s]+', \"\",sentence)\n",
    "    regex = sentence.lower()\n",
    "    for words in regex.split():\n",
    "        if words not in stopwords:\n",
    "            if words in dicti:\n",
    "                dicti[words] += 1\n",
    "            else:\n",
    "                dicti[words] = 1\n",
    "    "
   ]
  },
  {
   "cell_type": "code",
   "execution_count": 142,
   "id": "0c071cd2",
   "metadata": {},
   "outputs": [
    {
     "data": {
      "text/html": [
       "<div>\n",
       "<style scoped>\n",
       "    .dataframe tbody tr th:only-of-type {\n",
       "        vertical-align: middle;\n",
       "    }\n",
       "\n",
       "    .dataframe tbody tr th {\n",
       "        vertical-align: top;\n",
       "    }\n",
       "\n",
       "    .dataframe thead th {\n",
       "        text-align: right;\n",
       "    }\n",
       "</style>\n",
       "<table border=\"1\" class=\"dataframe\">\n",
       "  <thead>\n",
       "    <tr style=\"text-align: right;\">\n",
       "      <th></th>\n",
       "      <th>words</th>\n",
       "      <th>count</th>\n",
       "    </tr>\n",
       "  </thead>\n",
       "  <tbody>\n",
       "    <tr>\n",
       "      <th>0</th>\n",
       "      <td>bad</td>\n",
       "      <td>21</td>\n",
       "    </tr>\n",
       "    <tr>\n",
       "      <th>1</th>\n",
       "      <td>customer</td>\n",
       "      <td>16</td>\n",
       "    </tr>\n",
       "    <tr>\n",
       "      <th>2</th>\n",
       "      <td>service</td>\n",
       "      <td>15</td>\n",
       "    </tr>\n",
       "    <tr>\n",
       "      <th>3</th>\n",
       "      <td>app</td>\n",
       "      <td>14</td>\n",
       "    </tr>\n",
       "    <tr>\n",
       "      <th>4</th>\n",
       "      <td>application</td>\n",
       "      <td>9</td>\n",
       "    </tr>\n",
       "  </tbody>\n",
       "</table>\n",
       "</div>"
      ],
      "text/plain": [
       "         words  count\n",
       "0          bad     21\n",
       "1     customer     16\n",
       "2      service     15\n",
       "3          app     14\n",
       "4  application      9"
      ]
     },
     "execution_count": 142,
     "metadata": {},
     "output_type": "execute_result"
    }
   ],
   "source": [
    "## Creating a dataframe to show the number of appearance of words in the negative reviews. \n",
    "neg_words_df = pd.DataFrame(dicti.items())\n",
    "neg_words_df.columns = ['words','count']\n",
    "neg_words_df = neg_words_df.sort_values(by = 'count', ascending = False).reset_index(drop = True)\n",
    "neg_words_df.head(5)"
   ]
  },
  {
   "cell_type": "code",
   "execution_count": 144,
   "id": "ca00bfb3",
   "metadata": {},
   "outputs": [
    {
     "data": {
      "text/plain": [
       "<BarContainer object of 5 artists>"
      ]
     },
     "execution_count": 144,
     "metadata": {},
     "output_type": "execute_result"
    },
    {
     "data": {
      "image/png": "[encoded data removed]",
      "text/plain": [
       "<Figure size 640x480 with 1 Axes>"
      ]
     },
     "metadata": {},
     "output_type": "display_data"
    }
   ],
   "source": [
    "plt.bar(neg_words_df['words'][:5], neg_words_df['count'][:5])"
   ]
  },
  {
   "cell_type": "code",
   "execution_count": 145,
   "id": "b3268e59",
   "metadata": {},
   "outputs": [],
   "source": [
    "## Looking at the most appeared words in 'NEGATIVE' review\n",
    "## We can see the negative review might be due to bad customer services and some apps related issue."
   ]
  },
  {
   "cell_type": "code",
   "execution_count": 150,
   "id": "936d83a3",
   "metadata": {},
   "outputs": [],
   "source": [
    "## Same procedure for the positive review. \n",
    "pos_df = df[df['Sentiment'] == 'POSITIVE']\n",
    "pos_list = pos_df['translated'].to_list()"
   ]
  },
  {
   "cell_type": "code",
   "execution_count": 151,
   "id": "43d6d72d",
   "metadata": {},
   "outputs": [],
   "source": [
    "dicti_pos = defaultdict()\n",
    "for sentence in pos_list:\n",
    "    regex = re.sub(r'[^A-Za-z0-9\\s]+', \"\",sentence)\n",
    "    regex = sentence.lower()\n",
    "    for words in regex.split():\n",
    "        if words not in stopwords:\n",
    "            if words in dicti_pos:\n",
    "                dicti_pos[words] += 1\n",
    "            else:\n",
    "                dicti_pos[words] = 1\n",
    "    "
   ]
  },
  {
   "cell_type": "code",
   "execution_count": 154,
   "id": "483ded2a",
   "metadata": {},
   "outputs": [
    {
     "data": {
      "text/html": [
       "<div>\n",
       "<style scoped>\n",
       "    .dataframe tbody tr th:only-of-type {\n",
       "        vertical-align: middle;\n",
       "    }\n",
       "\n",
       "    .dataframe tbody tr th {\n",
       "        vertical-align: top;\n",
       "    }\n",
       "\n",
       "    .dataframe thead th {\n",
       "        text-align: right;\n",
       "    }\n",
       "</style>\n",
       "<table border=\"1\" class=\"dataframe\">\n",
       "  <thead>\n",
       "    <tr style=\"text-align: right;\">\n",
       "      <th></th>\n",
       "      <th>words</th>\n",
       "      <th>count</th>\n",
       "    </tr>\n",
       "  </thead>\n",
       "  <tbody>\n",
       "    <tr>\n",
       "      <th>0</th>\n",
       "      <td>application</td>\n",
       "      <td>16</td>\n",
       "    </tr>\n",
       "    <tr>\n",
       "      <th>1</th>\n",
       "      <td>best</td>\n",
       "      <td>15</td>\n",
       "    </tr>\n",
       "    <tr>\n",
       "      <th>2</th>\n",
       "      <td>app</td>\n",
       "      <td>15</td>\n",
       "    </tr>\n",
       "    <tr>\n",
       "      <th>3</th>\n",
       "      <td>excellent</td>\n",
       "      <td>11</td>\n",
       "    </tr>\n",
       "    <tr>\n",
       "      <th>4</th>\n",
       "      <td>good</td>\n",
       "      <td>11</td>\n",
       "    </tr>\n",
       "  </tbody>\n",
       "</table>\n",
       "</div>"
      ],
      "text/plain": [
       "         words  count\n",
       "0  application     16\n",
       "1         best     15\n",
       "2          app     15\n",
       "3    excellent     11\n",
       "4         good     11"
      ]
     },
     "execution_count": 154,
     "metadata": {},
     "output_type": "execute_result"
    }
   ],
   "source": [
    "pos_words_df = pd.DataFrame(dicti_pos.items())\n",
    "pos_words_df.columns = ['words','count']\n",
    "pos_words_df = pos_words_df.sort_values(by = 'count', ascending = False).reset_index(drop = True)\n",
    "pos_words_df.head(5)"
   ]
  },
  {
   "cell_type": "code",
   "execution_count": 155,
   "id": "aaf14dae",
   "metadata": {},
   "outputs": [
    {
     "data": {
      "text/plain": [
       "<BarContainer object of 5 artists>"
      ]
     },
     "execution_count": 155,
     "metadata": {},
     "output_type": "execute_result"
    },
    {
     "data": {
      "image/png": "[encoded data removed]",
      "text/plain": [
       "<Figure size 640x480 with 1 Axes>"
      ]
     },
     "metadata": {},
     "output_type": "display_data"
    }
   ],
   "source": [
    "plt.bar(pos_words_df['words'][:5], pos_words_df['count'][:5])"
   ]
  },
  {
   "cell_type": "code",
   "execution_count": null,
   "id": "c13b9732",
   "metadata": {},
   "outputs": [],
   "source": [
    "## Here we can see there are good reviews about the app."
   ]
  },
  {
   "cell_type": "code",
   "execution_count": 159,
   "id": "f3c14cb7",
   "metadata": {},
   "outputs": [
    {
     "data": {
      "text/plain": [
       "1.6595744680851063"
      ]
     },
     "execution_count": 159,
     "metadata": {},
     "output_type": "execute_result"
    }
   ],
   "source": [
    "## Out of all the negative reviews, the average score is 1.66\n",
    "df[df['Sentiment'] == 'NEGATIVE']['score'].mean()"
   ]
  },
  {
   "cell_type": "code",
   "execution_count": 160,
   "id": "5f45fc1c",
   "metadata": {
    "scrolled": true
   },
   "outputs": [
    {
     "data": {
      "text/plain": [
       "4.553398058252427"
      ]
     },
     "execution_count": 160,
     "metadata": {},
     "output_type": "execute_result"
    }
   ],
   "source": [
    "## Out of all the positive reviews, the average score is 4.55\n",
    "df[df['Sentiment'] == 'POSITIVE']['score'].mean()"
   ]
  },
  {
   "cell_type": "code",
   "execution_count": 161,
   "id": "0b6ac251",
   "metadata": {},
   "outputs": [],
   "source": [
    "## Here, we can see the latest version and its average rating.\n",
    "ratings = df[['score','reviewCreatedVersion']].groupby('reviewCreatedVersion').mean().sort_values(by = 'reviewCreatedVersion', ascending = False).reset_index()\n",
    "ratings.columns = ['Version','Average Rating']\n",
    "ratings['Average Rating'] = round(ratings['Average Rating'],1)"
   ]
  },
  {
   "cell_type": "code",
   "execution_count": 162,
   "id": "b3b7f35c",
   "metadata": {
    "scrolled": false
   },
   "outputs": [
    {
     "data": {
      "text/html": [
       "<div>\n",
       "<style scoped>\n",
       "    .dataframe tbody tr th:only-of-type {\n",
       "        vertical-align: middle;\n",
       "    }\n",
       "\n",
       "    .dataframe tbody tr th {\n",
       "        vertical-align: top;\n",
       "    }\n",
       "\n",
       "    .dataframe thead th {\n",
       "        text-align: right;\n",
       "    }\n",
       "</style>\n",
       "<table border=\"1\" class=\"dataframe\">\n",
       "  <thead>\n",
       "    <tr style=\"text-align: right;\">\n",
       "      <th></th>\n",
       "      <th>Version</th>\n",
       "      <th>Average Rating</th>\n",
       "    </tr>\n",
       "  </thead>\n",
       "  <tbody>\n",
       "    <tr>\n",
       "      <th>0</th>\n",
       "      <td>2.7.0</td>\n",
       "      <td>3.0</td>\n",
       "    </tr>\n",
       "    <tr>\n",
       "      <th>1</th>\n",
       "      <td>2.6.0</td>\n",
       "      <td>4.0</td>\n",
       "    </tr>\n",
       "    <tr>\n",
       "      <th>2</th>\n",
       "      <td>2.5.0</td>\n",
       "      <td>2.8</td>\n",
       "    </tr>\n",
       "    <tr>\n",
       "      <th>3</th>\n",
       "      <td>2.3.1</td>\n",
       "      <td>3.0</td>\n",
       "    </tr>\n",
       "    <tr>\n",
       "      <th>4</th>\n",
       "      <td>2.3.0</td>\n",
       "      <td>5.0</td>\n",
       "    </tr>\n",
       "  </tbody>\n",
       "</table>\n",
       "</div>"
      ],
      "text/plain": [
       "  Version  Average Rating\n",
       "0   2.7.0             3.0\n",
       "1   2.6.0             4.0\n",
       "2   2.5.0             2.8\n",
       "3   2.3.1             3.0\n",
       "4   2.3.0             5.0"
      ]
     },
     "execution_count": 162,
     "metadata": {},
     "output_type": "execute_result"
    }
   ],
   "source": [
    "ratings.head()"
   ]
  },
  {
   "cell_type": "code",
   "execution_count": 163,
   "id": "ed32d580",
   "metadata": {},
   "outputs": [],
   "source": [
    "import matplotlib.pyplot as plt"
   ]
  },
  {
   "cell_type": "code",
   "execution_count": 164,
   "id": "d4e903d1",
   "metadata": {},
   "outputs": [
    {
     "data": {
      "text/plain": [
       "Text(0.5, 1.0, 'Ratings for each version')"
      ]
     },
     "execution_count": 164,
     "metadata": {},
     "output_type": "execute_result"
    },
    {
     "data": {
      "image/png": "[encoded data removed]",
      "text/plain": [
       "<Figure size 640x480 with 1 Axes>"
      ]
     },
     "metadata": {},
     "output_type": "display_data"
    }
   ],
   "source": [
    "plt.barh(ratings['Version'], ratings['Average Rating'])\n",
    "plt.rcParams.update({'font.size': 7})\n",
    "plt.xlabel(\"Ratings\")\n",
    "plt.ylabel(\"Version\")\n",
    "plt.title('Ratings for each version')"
   ]
  },
  {
   "cell_type": "code",
   "execution_count": 165,
   "id": "1ebac71c",
   "metadata": {},
   "outputs": [
    {
     "data": {
      "text/html": [
       "<div>\n",
       "<style scoped>\n",
       "    .dataframe tbody tr th:only-of-type {\n",
       "        vertical-align: middle;\n",
       "    }\n",
       "\n",
       "    .dataframe tbody tr th {\n",
       "        vertical-align: top;\n",
       "    }\n",
       "\n",
       "    .dataframe thead th {\n",
       "        text-align: right;\n",
       "    }\n",
       "</style>\n",
       "<table border=\"1\" class=\"dataframe\">\n",
       "  <thead>\n",
       "    <tr style=\"text-align: right;\">\n",
       "      <th></th>\n",
       "      <th>Version</th>\n",
       "      <th>Count</th>\n",
       "    </tr>\n",
       "  </thead>\n",
       "  <tbody>\n",
       "    <tr>\n",
       "      <th>0</th>\n",
       "      <td>2.7.0</td>\n",
       "      <td>3</td>\n",
       "    </tr>\n",
       "    <tr>\n",
       "      <th>1</th>\n",
       "      <td>2.6.0</td>\n",
       "      <td>1</td>\n",
       "    </tr>\n",
       "    <tr>\n",
       "      <th>2</th>\n",
       "      <td>2.5.0</td>\n",
       "      <td>5</td>\n",
       "    </tr>\n",
       "    <tr>\n",
       "      <th>3</th>\n",
       "      <td>2.3.1</td>\n",
       "      <td>2</td>\n",
       "    </tr>\n",
       "    <tr>\n",
       "      <th>4</th>\n",
       "      <td>2.3.0</td>\n",
       "      <td>1</td>\n",
       "    </tr>\n",
       "  </tbody>\n",
       "</table>\n",
       "</div>"
      ],
      "text/plain": [
       "  Version  Count\n",
       "0   2.7.0      3\n",
       "1   2.6.0      1\n",
       "2   2.5.0      5\n",
       "3   2.3.1      2\n",
       "4   2.3.0      1"
      ]
     },
     "execution_count": 165,
     "metadata": {},
     "output_type": "execute_result"
    }
   ],
   "source": [
    "## Here we can see the number of reviews for each version.\n",
    "counts = pd.DataFrame(df['reviewCreatedVersion'].value_counts()).reset_index()\n",
    "counts.columns = ['Version','Count']\n",
    "counts = counts.sort_values(by = 'Version', ascending = False).reset_index(drop = True)\n",
    "counts.head()"
   ]
  },
  {
   "cell_type": "code",
   "execution_count": 166,
   "id": "ce8625c8",
   "metadata": {},
   "outputs": [
    {
     "data": {
      "text/plain": [
       "Text(0.5, 1.0, 'Review counts for each version')"
      ]
     },
     "execution_count": 166,
     "metadata": {},
     "output_type": "execute_result"
    },
    {
     "data": {
      "image/png": "[encoded data removed]",
      "text/plain": [
       "<Figure size 640x480 with 1 Axes>"
      ]
     },
     "metadata": {},
     "output_type": "display_data"
    }
   ],
   "source": [
    "plt.barh(counts['Version'], counts['Count'])\n",
    "plt.rcParams.update({'font.size': 7})\n",
    "plt.xlabel(\"Version\")\n",
    "plt.ylabel(\"Count\")\n",
    "plt.title('Review counts for each version')"
   ]
  },
  {
   "cell_type": "code",
   "execution_count": 167,
   "id": "5832975b",
   "metadata": {
    "scrolled": false
   },
   "outputs": [
    {
     "data": {
      "text/html": [
       "<div>\n",
       "<style scoped>\n",
       "    .dataframe tbody tr th:only-of-type {\n",
       "        vertical-align: middle;\n",
       "    }\n",
       "\n",
       "    .dataframe tbody tr th {\n",
       "        vertical-align: top;\n",
       "    }\n",
       "\n",
       "    .dataframe thead th {\n",
       "        text-align: right;\n",
       "    }\n",
       "</style>\n",
       "<table border=\"1\" class=\"dataframe\">\n",
       "  <thead>\n",
       "    <tr style=\"text-align: right;\">\n",
       "      <th></th>\n",
       "      <th>Version</th>\n",
       "      <th>Average Rating</th>\n",
       "      <th>Count</th>\n",
       "    </tr>\n",
       "  </thead>\n",
       "  <tbody>\n",
       "    <tr>\n",
       "      <th>0</th>\n",
       "      <td>2.7.0</td>\n",
       "      <td>3.0</td>\n",
       "      <td>3</td>\n",
       "    </tr>\n",
       "    <tr>\n",
       "      <th>1</th>\n",
       "      <td>2.6.0</td>\n",
       "      <td>4.0</td>\n",
       "      <td>1</td>\n",
       "    </tr>\n",
       "    <tr>\n",
       "      <th>2</th>\n",
       "      <td>2.5.0</td>\n",
       "      <td>2.8</td>\n",
       "      <td>5</td>\n",
       "    </tr>\n",
       "    <tr>\n",
       "      <th>3</th>\n",
       "      <td>2.3.1</td>\n",
       "      <td>3.0</td>\n",
       "      <td>2</td>\n",
       "    </tr>\n",
       "    <tr>\n",
       "      <th>4</th>\n",
       "      <td>2.3.0</td>\n",
       "      <td>5.0</td>\n",
       "      <td>1</td>\n",
       "    </tr>\n",
       "  </tbody>\n",
       "</table>\n",
       "</div>"
      ],
      "text/plain": [
       "  Version  Average Rating  Count\n",
       "0   2.7.0             3.0      3\n",
       "1   2.6.0             4.0      1\n",
       "2   2.5.0             2.8      5\n",
       "3   2.3.1             3.0      2\n",
       "4   2.3.0             5.0      1"
      ]
     },
     "execution_count": 167,
     "metadata": {},
     "output_type": "execute_result"
    }
   ],
   "source": [
    "df_version = pd.merge(ratings,counts, on ='Version')\n",
    "df_version.head()"
   ]
  },
  {
   "cell_type": "code",
   "execution_count": 168,
   "id": "ddcfb74f",
   "metadata": {
    "scrolled": true
   },
   "outputs": [
    {
     "data": {
      "text/plain": [
       "(47, 3)"
      ]
     },
     "execution_count": 168,
     "metadata": {},
     "output_type": "execute_result"
    }
   ],
   "source": [
    "df_version.shape"
   ]
  },
  {
   "cell_type": "code",
   "execution_count": 169,
   "id": "5987778c",
   "metadata": {},
   "outputs": [
    {
     "data": {
      "text/plain": [
       "(47, 2)"
      ]
     },
     "execution_count": 169,
     "metadata": {},
     "output_type": "execute_result"
    }
   ],
   "source": [
    "df_year = df[['reviewCreatedVersion','Year']].drop_duplicates(subset = 'reviewCreatedVersion', keep = 'first').dropna().reset_index(drop = True)\n",
    "df_year.columns = ['Version','Year']\n",
    "df_year.shape"
   ]
  },
  {
   "cell_type": "code",
   "execution_count": 170,
   "id": "fc2277fb",
   "metadata": {
    "scrolled": true
   },
   "outputs": [
    {
     "data": {
      "text/html": [
       "<div>\n",
       "<style scoped>\n",
       "    .dataframe tbody tr th:only-of-type {\n",
       "        vertical-align: middle;\n",
       "    }\n",
       "\n",
       "    .dataframe tbody tr th {\n",
       "        vertical-align: top;\n",
       "    }\n",
       "\n",
       "    .dataframe thead th {\n",
       "        text-align: right;\n",
       "    }\n",
       "</style>\n",
       "<table border=\"1\" class=\"dataframe\">\n",
       "  <thead>\n",
       "    <tr style=\"text-align: right;\">\n",
       "      <th></th>\n",
       "      <th>Version</th>\n",
       "      <th>Average Rating</th>\n",
       "      <th>Count</th>\n",
       "      <th>Year</th>\n",
       "    </tr>\n",
       "  </thead>\n",
       "  <tbody>\n",
       "    <tr>\n",
       "      <th>0</th>\n",
       "      <td>2.7.0</td>\n",
       "      <td>3.0</td>\n",
       "      <td>3</td>\n",
       "      <td>2022</td>\n",
       "    </tr>\n",
       "    <tr>\n",
       "      <th>1</th>\n",
       "      <td>2.6.0</td>\n",
       "      <td>4.0</td>\n",
       "      <td>1</td>\n",
       "      <td>2022</td>\n",
       "    </tr>\n",
       "    <tr>\n",
       "      <th>2</th>\n",
       "      <td>2.5.0</td>\n",
       "      <td>2.8</td>\n",
       "      <td>5</td>\n",
       "      <td>2022</td>\n",
       "    </tr>\n",
       "    <tr>\n",
       "      <th>3</th>\n",
       "      <td>2.3.1</td>\n",
       "      <td>3.0</td>\n",
       "      <td>2</td>\n",
       "      <td>2022</td>\n",
       "    </tr>\n",
       "    <tr>\n",
       "      <th>4</th>\n",
       "      <td>2.3.0</td>\n",
       "      <td>5.0</td>\n",
       "      <td>1</td>\n",
       "      <td>2022</td>\n",
       "    </tr>\n",
       "  </tbody>\n",
       "</table>\n",
       "</div>"
      ],
      "text/plain": [
       "  Version  Average Rating  Count  Year\n",
       "0   2.7.0             3.0      3  2022\n",
       "1   2.6.0             4.0      1  2022\n",
       "2   2.5.0             2.8      5  2022\n",
       "3   2.3.1             3.0      2  2022\n",
       "4   2.3.0             5.0      1  2022"
      ]
     },
     "execution_count": 170,
     "metadata": {},
     "output_type": "execute_result"
    }
   ],
   "source": [
    "### Combining to see the version, its average ratings, its number of reviews (count) and the release year. \n",
    "df_version = pd.merge(df_version,df_year, on = 'Version')\n",
    "df_version.head()"
   ]
  }
 ],
 "metadata": {
  "kernelspec": {
   "display_name": "Python 3 (ipykernel)",
   "language": "python",
   "name": "python3"
  },
  "language_info": {
   "codemirror_mode": {
    "name": "ipython",
    "version": 3
   },
   "file_extension": ".py",
   "mimetype": "text/x-python",
   "name": "python",
   "nbconvert_exporter": "python",
   "pygments_lexer": "ipython3",
   "version": "3.9.15"
  }
 },
 "nbformat": 4,
 "nbformat_minor": 5
}
