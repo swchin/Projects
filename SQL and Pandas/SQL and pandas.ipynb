{
 "cells": [
  {
   "cell_type": "markdown",
   "id": "ad6a1013",
   "metadata": {},
   "source": [
    "#### Connecting a sqlite file to get some insights on the movies dataset "
   ]
  },
  {
   "cell_type": "code",
   "execution_count": 147,
   "id": "44d1366e",
   "metadata": {},
   "outputs": [],
   "source": [
    "import sqlite3 as sql"
   ]
  },
  {
   "cell_type": "code",
   "execution_count": 148,
   "id": "34739e50",
   "metadata": {},
   "outputs": [],
   "source": [
    "connection = sql.connect('movies.sqlite')"
   ]
  },
  {
   "cell_type": "code",
   "execution_count": 149,
   "id": "d4499b6d",
   "metadata": {},
   "outputs": [],
   "source": [
    "cursor = connection.cursor()"
   ]
  },
  {
   "cell_type": "code",
   "execution_count": 150,
   "id": "107cad07",
   "metadata": {},
   "outputs": [],
   "source": [
    "query = 'SELECT * FROM movies'"
   ]
  },
  {
   "cell_type": "code",
   "execution_count": 151,
   "id": "cb27c668",
   "metadata": {},
   "outputs": [
    {
     "data": {
      "text/plain": [
       "<sqlite3.Cursor at 0x2aa8a59cc70>"
      ]
     },
     "execution_count": 151,
     "metadata": {},
     "output_type": "execute_result"
    }
   ],
   "source": [
    "cursor.execute(query)"
   ]
  },
  {
   "cell_type": "code",
   "execution_count": 152,
   "id": "c3736e92",
   "metadata": {},
   "outputs": [],
   "source": [
    "result = cursor.fetchall()"
   ]
  },
  {
   "cell_type": "code",
   "execution_count": 153,
   "id": "5ec57d10",
   "metadata": {},
   "outputs": [],
   "source": [
    "import pandas as pd"
   ]
  },
  {
   "cell_type": "code",
   "execution_count": 154,
   "id": "655e76b2",
   "metadata": {},
   "outputs": [],
   "source": [
    "#### Having a look at the tables in this dataset"
   ]
  },
  {
   "cell_type": "code",
   "execution_count": 155,
   "id": "fa5de6bf",
   "metadata": {},
   "outputs": [
    {
     "data": {
      "text/html": [
       "<div>\n",
       "<style scoped>\n",
       "    .dataframe tbody tr th:only-of-type {\n",
       "        vertical-align: middle;\n",
       "    }\n",
       "\n",
       "    .dataframe tbody tr th {\n",
       "        vertical-align: top;\n",
       "    }\n",
       "\n",
       "    .dataframe thead th {\n",
       "        text-align: right;\n",
       "    }\n",
       "</style>\n",
       "<table border=\"1\" class=\"dataframe\">\n",
       "  <thead>\n",
       "    <tr style=\"text-align: right;\">\n",
       "      <th></th>\n",
       "      <th>id</th>\n",
       "      <th>original_title</th>\n",
       "      <th>budget</th>\n",
       "      <th>popularity</th>\n",
       "      <th>release_date</th>\n",
       "      <th>revenue</th>\n",
       "      <th>title</th>\n",
       "      <th>vote_average</th>\n",
       "      <th>vote_count</th>\n",
       "      <th>overview</th>\n",
       "      <th>tagline</th>\n",
       "      <th>uid</th>\n",
       "      <th>director_id</th>\n",
       "    </tr>\n",
       "  </thead>\n",
       "  <tbody>\n",
       "    <tr>\n",
       "      <th>0</th>\n",
       "      <td>43597</td>\n",
       "      <td>Avatar</td>\n",
       "      <td>237000000</td>\n",
       "      <td>150</td>\n",
       "      <td>2009-12-10</td>\n",
       "      <td>2787965087</td>\n",
       "      <td>Avatar</td>\n",
       "      <td>7.2</td>\n",
       "      <td>11800</td>\n",
       "      <td>In the 22nd century, a paraplegic Marine is di...</td>\n",
       "      <td>Enter the World of Pandora.</td>\n",
       "      <td>19995</td>\n",
       "      <td>4762</td>\n",
       "    </tr>\n",
       "    <tr>\n",
       "      <th>1</th>\n",
       "      <td>43598</td>\n",
       "      <td>Pirates of the Caribbean: At World's End</td>\n",
       "      <td>300000000</td>\n",
       "      <td>139</td>\n",
       "      <td>2007-05-19</td>\n",
       "      <td>961000000</td>\n",
       "      <td>Pirates of the Caribbean: At World's End</td>\n",
       "      <td>6.9</td>\n",
       "      <td>4500</td>\n",
       "      <td>Captain Barbossa, long believed to be dead, ha...</td>\n",
       "      <td>At the end of the world, the adventure begins.</td>\n",
       "      <td>285</td>\n",
       "      <td>4763</td>\n",
       "    </tr>\n",
       "  </tbody>\n",
       "</table>\n",
       "</div>"
      ],
      "text/plain": [
       "      id                            original_title     budget  popularity  \\\n",
       "0  43597                                    Avatar  237000000         150   \n",
       "1  43598  Pirates of the Caribbean: At World's End  300000000         139   \n",
       "\n",
       "  release_date     revenue                                     title  \\\n",
       "0   2009-12-10  2787965087                                    Avatar   \n",
       "1   2007-05-19   961000000  Pirates of the Caribbean: At World's End   \n",
       "\n",
       "   vote_average  vote_count  \\\n",
       "0           7.2       11800   \n",
       "1           6.9        4500   \n",
       "\n",
       "                                            overview  \\\n",
       "0  In the 22nd century, a paraplegic Marine is di...   \n",
       "1  Captain Barbossa, long believed to be dead, ha...   \n",
       "\n",
       "                                          tagline    uid  director_id  \n",
       "0                     Enter the World of Pandora.  19995         4762  \n",
       "1  At the end of the world, the adventure begins.    285         4763  "
      ]
     },
     "execution_count": 155,
     "metadata": {},
     "output_type": "execute_result"
    }
   ],
   "source": [
    "movies = pd.read_sql_query(query,connection)\n",
    "movies.head(2)"
   ]
  },
  {
   "cell_type": "code",
   "execution_count": 156,
   "id": "ae60b7f2",
   "metadata": {},
   "outputs": [
    {
     "data": {
      "text/html": [
       "<div>\n",
       "<style scoped>\n",
       "    .dataframe tbody tr th:only-of-type {\n",
       "        vertical-align: middle;\n",
       "    }\n",
       "\n",
       "    .dataframe tbody tr th {\n",
       "        vertical-align: top;\n",
       "    }\n",
       "\n",
       "    .dataframe thead th {\n",
       "        text-align: right;\n",
       "    }\n",
       "</style>\n",
       "<table border=\"1\" class=\"dataframe\">\n",
       "  <thead>\n",
       "    <tr style=\"text-align: right;\">\n",
       "      <th></th>\n",
       "      <th>name</th>\n",
       "      <th>id</th>\n",
       "      <th>gender</th>\n",
       "      <th>uid</th>\n",
       "      <th>department</th>\n",
       "    </tr>\n",
       "  </thead>\n",
       "  <tbody>\n",
       "    <tr>\n",
       "      <th>0</th>\n",
       "      <td>James Cameron</td>\n",
       "      <td>4762</td>\n",
       "      <td>2</td>\n",
       "      <td>2710</td>\n",
       "      <td>Directing</td>\n",
       "    </tr>\n",
       "    <tr>\n",
       "      <th>1</th>\n",
       "      <td>Gore Verbinski</td>\n",
       "      <td>4763</td>\n",
       "      <td>2</td>\n",
       "      <td>1704</td>\n",
       "      <td>Directing</td>\n",
       "    </tr>\n",
       "  </tbody>\n",
       "</table>\n",
       "</div>"
      ],
      "text/plain": [
       "             name    id  gender   uid department\n",
       "0   James Cameron  4762       2  2710  Directing\n",
       "1  Gore Verbinski  4763       2  1704  Directing"
      ]
     },
     "execution_count": 156,
     "metadata": {},
     "output_type": "execute_result"
    }
   ],
   "source": [
    "directors = pd.read_sql_query('SELECT * FROM directors', connection)\n",
    "directors.head(2)"
   ]
  },
  {
   "cell_type": "markdown",
   "id": "dfd1316c",
   "metadata": {},
   "source": [
    "## Question 1 Finding out the popular and highly rated movies."
   ]
  },
  {
   "cell_type": "code",
   "execution_count": 159,
   "id": "3b69a6fe",
   "metadata": {},
   "outputs": [],
   "source": [
    "#### For popular movies, we can set a threshold of having votes > 10,000.\n",
    "#### For high quality movies, we can order the dataframe by ratings to see the 'best' movies."
   ]
  },
  {
   "cell_type": "code",
   "execution_count": 176,
   "id": "9dc8fbb0",
   "metadata": {},
   "outputs": [
    {
     "data": {
      "text/html": [
       "<div>\n",
       "<style scoped>\n",
       "    .dataframe tbody tr th:only-of-type {\n",
       "        vertical-align: middle;\n",
       "    }\n",
       "\n",
       "    .dataframe tbody tr th {\n",
       "        vertical-align: top;\n",
       "    }\n",
       "\n",
       "    .dataframe thead th {\n",
       "        text-align: right;\n",
       "    }\n",
       "</style>\n",
       "<table border=\"1\" class=\"dataframe\">\n",
       "  <thead>\n",
       "    <tr style=\"text-align: right;\">\n",
       "      <th></th>\n",
       "      <th>movie</th>\n",
       "      <th>votes</th>\n",
       "      <th>rating</th>\n",
       "      <th>name</th>\n",
       "    </tr>\n",
       "  </thead>\n",
       "  <tbody>\n",
       "    <tr>\n",
       "      <th>0</th>\n",
       "      <td>Inception</td>\n",
       "      <td>13752</td>\n",
       "      <td>8.1</td>\n",
       "      <td>Christopher Nolan</td>\n",
       "    </tr>\n",
       "    <tr>\n",
       "      <th>1</th>\n",
       "      <td>The Dark Knight</td>\n",
       "      <td>12002</td>\n",
       "      <td>8.2</td>\n",
       "      <td>Christopher Nolan</td>\n",
       "    </tr>\n",
       "    <tr>\n",
       "      <th>2</th>\n",
       "      <td>Avatar</td>\n",
       "      <td>11800</td>\n",
       "      <td>7.2</td>\n",
       "      <td>James Cameron</td>\n",
       "    </tr>\n",
       "    <tr>\n",
       "      <th>3</th>\n",
       "      <td>The Avengers</td>\n",
       "      <td>11776</td>\n",
       "      <td>7.4</td>\n",
       "      <td>Joss Whedon</td>\n",
       "    </tr>\n",
       "    <tr>\n",
       "      <th>4</th>\n",
       "      <td>Deadpool</td>\n",
       "      <td>10995</td>\n",
       "      <td>7.4</td>\n",
       "      <td>Tim Miller</td>\n",
       "    </tr>\n",
       "    <tr>\n",
       "      <th>5</th>\n",
       "      <td>Interstellar</td>\n",
       "      <td>10867</td>\n",
       "      <td>8.1</td>\n",
       "      <td>Christopher Nolan</td>\n",
       "    </tr>\n",
       "    <tr>\n",
       "      <th>6</th>\n",
       "      <td>Django Unchained</td>\n",
       "      <td>10099</td>\n",
       "      <td>7.8</td>\n",
       "      <td>Quentin Tarantino</td>\n",
       "    </tr>\n",
       "  </tbody>\n",
       "</table>\n",
       "</div>"
      ],
      "text/plain": [
       "              movie  votes  rating               name\n",
       "0         Inception  13752     8.1  Christopher Nolan\n",
       "1   The Dark Knight  12002     8.2  Christopher Nolan\n",
       "2            Avatar  11800     7.2      James Cameron\n",
       "3      The Avengers  11776     7.4        Joss Whedon\n",
       "4          Deadpool  10995     7.4         Tim Miller\n",
       "5      Interstellar  10867     8.1  Christopher Nolan\n",
       "6  Django Unchained  10099     7.8  Quentin Tarantino"
      ]
     },
     "execution_count": 176,
     "metadata": {},
     "output_type": "execute_result"
    }
   ],
   "source": [
    "query1 = '''\n",
    "         SELECT m.title as movie, m.vote_count as votes, m.vote_average as rating, d.name\n",
    "         FROM movies as m\n",
    "         INNER JOIN directors as d\n",
    "         ON m.director_id = d.id\n",
    "         GROUP BY movie\n",
    "         HAVING votes > 10000\n",
    "         ORDER BY -votes         \n",
    "         LIMIT 10\n",
    "         '''\n",
    "df1 = pd.read_sql_query(query1,connection)\n",
    "df1"
   ]
  },
  {
   "cell_type": "markdown",
   "id": "90f734b8",
   "metadata": {},
   "source": [
    "Seems like Christopher Nolan is one of the best directors in the world. Lets find out the movies that he had directed and the average rating."
   ]
  },
  {
   "cell_type": "markdown",
   "id": "dfd65376",
   "metadata": {},
   "source": [
    "### Finding out all movies that CHRISTOPHER NOLAN had directed and binge them in movie nights."
   ]
  },
  {
   "cell_type": "code",
   "execution_count": 118,
   "id": "05d52118",
   "metadata": {},
   "outputs": [],
   "source": [
    "#### Need to watch those movies by CHRISTOPHER NOLAN in order by popularity."
   ]
  },
  {
   "cell_type": "code",
   "execution_count": 51,
   "id": "57b75eeb",
   "metadata": {},
   "outputs": [
    {
     "data": {
      "text/html": [
       "<div>\n",
       "<style scoped>\n",
       "    .dataframe tbody tr th:only-of-type {\n",
       "        vertical-align: middle;\n",
       "    }\n",
       "\n",
       "    .dataframe tbody tr th {\n",
       "        vertical-align: top;\n",
       "    }\n",
       "\n",
       "    .dataframe thead th {\n",
       "        text-align: right;\n",
       "    }\n",
       "</style>\n",
       "<table border=\"1\" class=\"dataframe\">\n",
       "  <thead>\n",
       "    <tr style=\"text-align: right;\">\n",
       "      <th></th>\n",
       "      <th>movie</th>\n",
       "      <th>votes</th>\n",
       "      <th>rating</th>\n",
       "    </tr>\n",
       "  </thead>\n",
       "  <tbody>\n",
       "    <tr>\n",
       "      <th>0</th>\n",
       "      <td>Inception</td>\n",
       "      <td>13752</td>\n",
       "      <td>8.1</td>\n",
       "    </tr>\n",
       "    <tr>\n",
       "      <th>1</th>\n",
       "      <td>The Dark Knight</td>\n",
       "      <td>12002</td>\n",
       "      <td>8.2</td>\n",
       "    </tr>\n",
       "    <tr>\n",
       "      <th>2</th>\n",
       "      <td>Interstellar</td>\n",
       "      <td>10867</td>\n",
       "      <td>8.1</td>\n",
       "    </tr>\n",
       "    <tr>\n",
       "      <th>3</th>\n",
       "      <td>The Dark Knight Rises</td>\n",
       "      <td>9106</td>\n",
       "      <td>7.6</td>\n",
       "    </tr>\n",
       "    <tr>\n",
       "      <th>4</th>\n",
       "      <td>Batman Begins</td>\n",
       "      <td>7359</td>\n",
       "      <td>7.5</td>\n",
       "    </tr>\n",
       "    <tr>\n",
       "      <th>5</th>\n",
       "      <td>The Prestige</td>\n",
       "      <td>4391</td>\n",
       "      <td>8.0</td>\n",
       "    </tr>\n",
       "    <tr>\n",
       "      <th>6</th>\n",
       "      <td>Memento</td>\n",
       "      <td>4028</td>\n",
       "      <td>8.1</td>\n",
       "    </tr>\n",
       "    <tr>\n",
       "      <th>7</th>\n",
       "      <td>Insomnia</td>\n",
       "      <td>1148</td>\n",
       "      <td>6.8</td>\n",
       "    </tr>\n",
       "  </tbody>\n",
       "</table>\n",
       "</div>"
      ],
      "text/plain": [
       "                   movie  votes  rating\n",
       "0              Inception  13752     8.1\n",
       "1        The Dark Knight  12002     8.2\n",
       "2           Interstellar  10867     8.1\n",
       "3  The Dark Knight Rises   9106     7.6\n",
       "4          Batman Begins   7359     7.5\n",
       "5           The Prestige   4391     8.0\n",
       "6                Memento   4028     8.1\n",
       "7               Insomnia   1148     6.8"
      ]
     },
     "execution_count": 51,
     "metadata": {},
     "output_type": "execute_result"
    }
   ],
   "source": [
    "query_cn = '''\n",
    "         SELECT m.title as movie, m.vote_count as votes, m.vote_average as rating\n",
    "         FROM movies as m\n",
    "         INNER JOIN directors as d\n",
    "         ON m.director_id = d.id\n",
    "         WHERE d.name = 'Christopher Nolan'\n",
    "         ORDER BY -votes        \n",
    "         '''\n",
    "df_cn = pd.read_sql_query(query_cn, connection)\n",
    "df_cn"
   ]
  },
  {
   "cell_type": "code",
   "execution_count": 55,
   "id": "ce9a7774",
   "metadata": {},
   "outputs": [
    {
     "name": "stdout",
     "output_type": "stream",
     "text": [
      "Average rating of Christopher Nolan's movies is 7.8\n"
     ]
    }
   ],
   "source": [
    "print(\"Average rating of Christopher Nolan's movies is\",df_cn['rating'].mean())"
   ]
  },
  {
   "cell_type": "code",
   "execution_count": 63,
   "id": "0c680739",
   "metadata": {},
   "outputs": [
    {
     "name": "stdout",
     "output_type": "stream",
     "text": [
      "Please go and watch these awesome movies: Inception, The Dark Knight, Interstellar, The Dark Knight Rises, Batman Begins, The Prestige, Memento, Insomnia.\n"
     ]
    }
   ],
   "source": [
    "listi = df_cn['movie'].to_list()\n",
    "list_of_movies = ', '.join([x for x in listi])\n",
    "print(\"Please go and watch these awesome movies: \" + list_of_movies + \".\")"
   ]
  },
  {
   "cell_type": "markdown",
   "id": "3ec945dc",
   "metadata": {},
   "source": [
    "## Question 2 Which directors produced most movies (Top 10 list) with average rating"
   ]
  },
  {
   "cell_type": "code",
   "execution_count": 161,
   "id": "cb799d3e",
   "metadata": {},
   "outputs": [
    {
     "data": {
      "text/html": [
       "<div>\n",
       "<style scoped>\n",
       "    .dataframe tbody tr th:only-of-type {\n",
       "        vertical-align: middle;\n",
       "    }\n",
       "\n",
       "    .dataframe tbody tr th {\n",
       "        vertical-align: top;\n",
       "    }\n",
       "\n",
       "    .dataframe thead th {\n",
       "        text-align: right;\n",
       "    }\n",
       "</style>\n",
       "<table border=\"1\" class=\"dataframe\">\n",
       "  <thead>\n",
       "    <tr style=\"text-align: right;\">\n",
       "      <th></th>\n",
       "      <th>name</th>\n",
       "      <th>count</th>\n",
       "      <th>rating</th>\n",
       "    </tr>\n",
       "  </thead>\n",
       "  <tbody>\n",
       "    <tr>\n",
       "      <th>0</th>\n",
       "      <td>Steven Spielberg</td>\n",
       "      <td>27</td>\n",
       "      <td>6.974074</td>\n",
       "    </tr>\n",
       "    <tr>\n",
       "      <th>1</th>\n",
       "      <td>Woody Allen</td>\n",
       "      <td>21</td>\n",
       "      <td>6.685714</td>\n",
       "    </tr>\n",
       "    <tr>\n",
       "      <th>2</th>\n",
       "      <td>Clint Eastwood</td>\n",
       "      <td>20</td>\n",
       "      <td>6.865000</td>\n",
       "    </tr>\n",
       "    <tr>\n",
       "      <th>3</th>\n",
       "      <td>Martin Scorsese</td>\n",
       "      <td>20</td>\n",
       "      <td>7.295000</td>\n",
       "    </tr>\n",
       "    <tr>\n",
       "      <th>4</th>\n",
       "      <td>Ridley Scott</td>\n",
       "      <td>16</td>\n",
       "      <td>6.693750</td>\n",
       "    </tr>\n",
       "    <tr>\n",
       "      <th>5</th>\n",
       "      <td>Robert Rodriguez</td>\n",
       "      <td>16</td>\n",
       "      <td>5.875000</td>\n",
       "    </tr>\n",
       "    <tr>\n",
       "      <th>6</th>\n",
       "      <td>Spike Lee</td>\n",
       "      <td>16</td>\n",
       "      <td>6.456250</td>\n",
       "    </tr>\n",
       "    <tr>\n",
       "      <th>7</th>\n",
       "      <td>Renny Harlin</td>\n",
       "      <td>15</td>\n",
       "      <td>5.720000</td>\n",
       "    </tr>\n",
       "    <tr>\n",
       "      <th>8</th>\n",
       "      <td>Steven Soderbergh</td>\n",
       "      <td>15</td>\n",
       "      <td>6.326667</td>\n",
       "    </tr>\n",
       "    <tr>\n",
       "      <th>9</th>\n",
       "      <td>Oliver Stone</td>\n",
       "      <td>14</td>\n",
       "      <td>6.614286</td>\n",
       "    </tr>\n",
       "  </tbody>\n",
       "</table>\n",
       "</div>"
      ],
      "text/plain": [
       "                name  count    rating\n",
       "0   Steven Spielberg     27  6.974074\n",
       "1        Woody Allen     21  6.685714\n",
       "2     Clint Eastwood     20  6.865000\n",
       "3    Martin Scorsese     20  7.295000\n",
       "4       Ridley Scott     16  6.693750\n",
       "5   Robert Rodriguez     16  5.875000\n",
       "6          Spike Lee     16  6.456250\n",
       "7       Renny Harlin     15  5.720000\n",
       "8  Steven Soderbergh     15  6.326667\n",
       "9       Oliver Stone     14  6.614286"
      ]
     },
     "execution_count": 161,
     "metadata": {},
     "output_type": "execute_result"
    }
   ],
   "source": [
    "query2 = '''\n",
    "         SELECT d.name, count(*) as count, AVG(m.vote_average) as rating\n",
    "         from directors as d \n",
    "         INNER JOIN movies as m\n",
    "         ON d.id = m.director_id \n",
    "         GROUP BY name\n",
    "         ORDER BY -count\n",
    "         LIMIT 10\n",
    "         '''\n",
    "\n",
    "df2 = pd.read_sql_query(query2,connection)\n",
    "df2"
   ]
  },
  {
   "cell_type": "markdown",
   "id": "ad77527d",
   "metadata": {},
   "source": [
    "Seems like Steven Spielberg directed most number of movies with 27, followed by Woody Allen (21), and Clint Eastwood tied with Martin Scorsese (20).\n",
    "\n",
    "Since Christopher Nolan has 7.8 ratings, maybe I should find out who else is a 'good director' with at least of 3 movies directed and a rating of 7.0++ . "
   ]
  },
  {
   "cell_type": "code",
   "execution_count": 162,
   "id": "7a08c710",
   "metadata": {},
   "outputs": [
    {
     "data": {
      "text/html": [
       "<div>\n",
       "<style scoped>\n",
       "    .dataframe tbody tr th:only-of-type {\n",
       "        vertical-align: middle;\n",
       "    }\n",
       "\n",
       "    .dataframe tbody tr th {\n",
       "        vertical-align: top;\n",
       "    }\n",
       "\n",
       "    .dataframe thead th {\n",
       "        text-align: right;\n",
       "    }\n",
       "</style>\n",
       "<table border=\"1\" class=\"dataframe\">\n",
       "  <thead>\n",
       "    <tr style=\"text-align: right;\">\n",
       "      <th></th>\n",
       "      <th>name</th>\n",
       "      <th>count</th>\n",
       "      <th>rating</th>\n",
       "    </tr>\n",
       "  </thead>\n",
       "  <tbody>\n",
       "    <tr>\n",
       "      <th>0</th>\n",
       "      <td>Hayao Miyazaki</td>\n",
       "      <td>4</td>\n",
       "      <td>8.050000</td>\n",
       "    </tr>\n",
       "    <tr>\n",
       "      <th>1</th>\n",
       "      <td>Sergio Leone</td>\n",
       "      <td>4</td>\n",
       "      <td>8.000000</td>\n",
       "    </tr>\n",
       "    <tr>\n",
       "      <th>2</th>\n",
       "      <td>Christopher Nolan</td>\n",
       "      <td>8</td>\n",
       "      <td>7.800000</td>\n",
       "    </tr>\n",
       "    <tr>\n",
       "      <th>3</th>\n",
       "      <td>Quentin Tarantino</td>\n",
       "      <td>8</td>\n",
       "      <td>7.775000</td>\n",
       "    </tr>\n",
       "    <tr>\n",
       "      <th>4</th>\n",
       "      <td>Pete Docter</td>\n",
       "      <td>3</td>\n",
       "      <td>7.733333</td>\n",
       "    </tr>\n",
       "    <tr>\n",
       "      <th>5</th>\n",
       "      <td>Stanley Kubrick</td>\n",
       "      <td>6</td>\n",
       "      <td>7.683333</td>\n",
       "    </tr>\n",
       "    <tr>\n",
       "      <th>6</th>\n",
       "      <td>Denis Villeneuve</td>\n",
       "      <td>3</td>\n",
       "      <td>7.666667</td>\n",
       "    </tr>\n",
       "    <tr>\n",
       "      <th>7</th>\n",
       "      <td>Miloš Forman</td>\n",
       "      <td>3</td>\n",
       "      <td>7.633333</td>\n",
       "    </tr>\n",
       "    <tr>\n",
       "      <th>8</th>\n",
       "      <td>Frank Capra</td>\n",
       "      <td>5</td>\n",
       "      <td>7.620000</td>\n",
       "    </tr>\n",
       "    <tr>\n",
       "      <th>9</th>\n",
       "      <td>Billy Wilder</td>\n",
       "      <td>4</td>\n",
       "      <td>7.600000</td>\n",
       "    </tr>\n",
       "  </tbody>\n",
       "</table>\n",
       "</div>"
      ],
      "text/plain": [
       "                name  count    rating\n",
       "0     Hayao Miyazaki      4  8.050000\n",
       "1       Sergio Leone      4  8.000000\n",
       "2  Christopher Nolan      8  7.800000\n",
       "3  Quentin Tarantino      8  7.775000\n",
       "4        Pete Docter      3  7.733333\n",
       "5    Stanley Kubrick      6  7.683333\n",
       "6   Denis Villeneuve      3  7.666667\n",
       "7       Miloš Forman      3  7.633333\n",
       "8        Frank Capra      5  7.620000\n",
       "9       Billy Wilder      4  7.600000"
      ]
     },
     "execution_count": 162,
     "metadata": {},
     "output_type": "execute_result"
    }
   ],
   "source": [
    "## After grouping, use number of movies directed of 3 as threshold.\n",
    "\n",
    "query3 = '''\n",
    "         SELECT d.name, count(*) as count, AVG(m.vote_average) as rating\n",
    "         from directors as d \n",
    "         INNER JOIN movies as m\n",
    "         ON d.id = m.director_id \n",
    "         GROUP BY name\n",
    "         HAVING COUNT >= 3 \n",
    "         ORDER BY -rating\n",
    "         LIMIT 10\n",
    "         '''\n",
    "\n",
    "df3 = pd.read_sql_query(query3,connection)\n",
    "df3"
   ]
  },
  {
   "cell_type": "markdown",
   "id": "a0b28a51",
   "metadata": {},
   "source": [
    "We also found out that Hayao Miyazaki from Studio Ghibli produced some of the highest quality Japanese Anime Movie. "
   ]
  },
  {
   "cell_type": "markdown",
   "id": "7183ed62",
   "metadata": {},
   "source": [
    "## Question 3 Find out which movie had the best revenue/budget ratio and the director"
   ]
  },
  {
   "cell_type": "code",
   "execution_count": 164,
   "id": "d0416e4c",
   "metadata": {},
   "outputs": [
    {
     "data": {
      "text/html": [
       "<div>\n",
       "<style scoped>\n",
       "    .dataframe tbody tr th:only-of-type {\n",
       "        vertical-align: middle;\n",
       "    }\n",
       "\n",
       "    .dataframe tbody tr th {\n",
       "        vertical-align: top;\n",
       "    }\n",
       "\n",
       "    .dataframe thead th {\n",
       "        text-align: right;\n",
       "    }\n",
       "</style>\n",
       "<table border=\"1\" class=\"dataframe\">\n",
       "  <thead>\n",
       "    <tr style=\"text-align: right;\">\n",
       "      <th></th>\n",
       "      <th>id</th>\n",
       "      <th>original_title</th>\n",
       "      <th>budget</th>\n",
       "      <th>popularity</th>\n",
       "      <th>release_date</th>\n",
       "      <th>revenue</th>\n",
       "      <th>title</th>\n",
       "      <th>vote_average</th>\n",
       "      <th>vote_count</th>\n",
       "      <th>overview</th>\n",
       "      <th>tagline</th>\n",
       "      <th>uid</th>\n",
       "      <th>director_id</th>\n",
       "    </tr>\n",
       "  </thead>\n",
       "  <tbody>\n",
       "    <tr>\n",
       "      <th>0</th>\n",
       "      <td>43597</td>\n",
       "      <td>Avatar</td>\n",
       "      <td>237000000</td>\n",
       "      <td>150</td>\n",
       "      <td>2009-12-10</td>\n",
       "      <td>2787965087</td>\n",
       "      <td>Avatar</td>\n",
       "      <td>7.2</td>\n",
       "      <td>11800</td>\n",
       "      <td>In the 22nd century, a paraplegic Marine is di...</td>\n",
       "      <td>Enter the World of Pandora.</td>\n",
       "      <td>19995</td>\n",
       "      <td>4762</td>\n",
       "    </tr>\n",
       "    <tr>\n",
       "      <th>1</th>\n",
       "      <td>43598</td>\n",
       "      <td>Pirates of the Caribbean: At World's End</td>\n",
       "      <td>300000000</td>\n",
       "      <td>139</td>\n",
       "      <td>2007-05-19</td>\n",
       "      <td>961000000</td>\n",
       "      <td>Pirates of the Caribbean: At World's End</td>\n",
       "      <td>6.9</td>\n",
       "      <td>4500</td>\n",
       "      <td>Captain Barbossa, long believed to be dead, ha...</td>\n",
       "      <td>At the end of the world, the adventure begins.</td>\n",
       "      <td>285</td>\n",
       "      <td>4763</td>\n",
       "    </tr>\n",
       "  </tbody>\n",
       "</table>\n",
       "</div>"
      ],
      "text/plain": [
       "      id                            original_title     budget  popularity  \\\n",
       "0  43597                                    Avatar  237000000         150   \n",
       "1  43598  Pirates of the Caribbean: At World's End  300000000         139   \n",
       "\n",
       "  release_date     revenue                                     title  \\\n",
       "0   2009-12-10  2787965087                                    Avatar   \n",
       "1   2007-05-19   961000000  Pirates of the Caribbean: At World's End   \n",
       "\n",
       "   vote_average  vote_count  \\\n",
       "0           7.2       11800   \n",
       "1           6.9        4500   \n",
       "\n",
       "                                            overview  \\\n",
       "0  In the 22nd century, a paraplegic Marine is di...   \n",
       "1  Captain Barbossa, long believed to be dead, ha...   \n",
       "\n",
       "                                          tagline    uid  director_id  \n",
       "0                     Enter the World of Pandora.  19995         4762  \n",
       "1  At the end of the world, the adventure begins.    285         4763  "
      ]
     },
     "execution_count": 164,
     "metadata": {},
     "output_type": "execute_result"
    }
   ],
   "source": [
    "movies.head(2)"
   ]
  },
  {
   "cell_type": "code",
   "execution_count": 168,
   "id": "86ec43d1",
   "metadata": {},
   "outputs": [],
   "source": [
    "#### The release_date is in the format of YYYY-MM-DD. However, this might be too long and I'm only interested in the Year.\n",
    "#### So, use strfttime to parse the year only."
   ]
  },
  {
   "cell_type": "code",
   "execution_count": 179,
   "id": "272bca6c",
   "metadata": {},
   "outputs": [
    {
     "data": {
      "text/html": [
       "<div>\n",
       "<style scoped>\n",
       "    .dataframe tbody tr th:only-of-type {\n",
       "        vertical-align: middle;\n",
       "    }\n",
       "\n",
       "    .dataframe tbody tr th {\n",
       "        vertical-align: top;\n",
       "    }\n",
       "\n",
       "    .dataframe thead th {\n",
       "        text-align: right;\n",
       "    }\n",
       "</style>\n",
       "<table border=\"1\" class=\"dataframe\">\n",
       "  <thead>\n",
       "    <tr style=\"text-align: right;\">\n",
       "      <th></th>\n",
       "      <th>movie</th>\n",
       "      <th>rating</th>\n",
       "      <th>name</th>\n",
       "      <th>ratio</th>\n",
       "      <th>Year</th>\n",
       "    </tr>\n",
       "  </thead>\n",
       "  <tbody>\n",
       "    <tr>\n",
       "      <th>0</th>\n",
       "      <td>Modern Times</td>\n",
       "      <td>8.1</td>\n",
       "      <td>Charlie Chaplin</td>\n",
       "      <td>8500000</td>\n",
       "      <td>1936</td>\n",
       "    </tr>\n",
       "    <tr>\n",
       "      <th>1</th>\n",
       "      <td>Nurse 3-D</td>\n",
       "      <td>4.9</td>\n",
       "      <td>Douglas Aarniokoski</td>\n",
       "      <td>1000000</td>\n",
       "      <td>2013</td>\n",
       "    </tr>\n",
       "    <tr>\n",
       "      <th>2</th>\n",
       "      <td>Paranormal Activity</td>\n",
       "      <td>5.9</td>\n",
       "      <td>Oren Peli</td>\n",
       "      <td>12890</td>\n",
       "      <td>2007</td>\n",
       "    </tr>\n",
       "    <tr>\n",
       "      <th>3</th>\n",
       "      <td>Tarnation</td>\n",
       "      <td>7.5</td>\n",
       "      <td>Jonathan Caouette</td>\n",
       "      <td>5330</td>\n",
       "      <td>2003</td>\n",
       "    </tr>\n",
       "    <tr>\n",
       "      <th>4</th>\n",
       "      <td>The Blair Witch Project</td>\n",
       "      <td>6.3</td>\n",
       "      <td>Daniel Myrick</td>\n",
       "      <td>4133</td>\n",
       "      <td>1999</td>\n",
       "    </tr>\n",
       "    <tr>\n",
       "      <th>5</th>\n",
       "      <td>Eraserhead</td>\n",
       "      <td>7.5</td>\n",
       "      <td>David Lynch</td>\n",
       "      <td>700</td>\n",
       "      <td>1977</td>\n",
       "    </tr>\n",
       "    <tr>\n",
       "      <th>6</th>\n",
       "      <td>Pink Flamingos</td>\n",
       "      <td>6.2</td>\n",
       "      <td>John Waters</td>\n",
       "      <td>500</td>\n",
       "      <td>1972</td>\n",
       "    </tr>\n",
       "    <tr>\n",
       "      <th>7</th>\n",
       "      <td>Super Size Me</td>\n",
       "      <td>6.6</td>\n",
       "      <td>Morgan Spurlock</td>\n",
       "      <td>439</td>\n",
       "      <td>2004</td>\n",
       "    </tr>\n",
       "    <tr>\n",
       "      <th>8</th>\n",
       "      <td>The Gallows</td>\n",
       "      <td>4.9</td>\n",
       "      <td>Travis Cluff</td>\n",
       "      <td>426</td>\n",
       "      <td>2015</td>\n",
       "    </tr>\n",
       "    <tr>\n",
       "      <th>9</th>\n",
       "      <td>Open Water</td>\n",
       "      <td>5.4</td>\n",
       "      <td>Chris Kentis</td>\n",
       "      <td>420</td>\n",
       "      <td>2004</td>\n",
       "    </tr>\n",
       "  </tbody>\n",
       "</table>\n",
       "</div>"
      ],
      "text/plain": [
       "                     movie  rating                 name    ratio  Year\n",
       "0             Modern Times     8.1      Charlie Chaplin  8500000  1936\n",
       "1                Nurse 3-D     4.9  Douglas Aarniokoski  1000000  2013\n",
       "2      Paranormal Activity     5.9            Oren Peli    12890  2007\n",
       "3                Tarnation     7.5    Jonathan Caouette     5330  2003\n",
       "4  The Blair Witch Project     6.3        Daniel Myrick     4133  1999\n",
       "5               Eraserhead     7.5          David Lynch      700  1977\n",
       "6           Pink Flamingos     6.2          John Waters      500  1972\n",
       "7            Super Size Me     6.6      Morgan Spurlock      439  2004\n",
       "8              The Gallows     4.9         Travis Cluff      426  2015\n",
       "9               Open Water     5.4         Chris Kentis      420  2004"
      ]
     },
     "execution_count": 179,
     "metadata": {},
     "output_type": "execute_result"
    }
   ],
   "source": [
    "query_earn = '''\n",
    "         SELECT m.title as movie, m.vote_average as rating, d.name, m.revenue/m.budget as ratio, \n",
    "         strftime('%Y', m.release_date) AS Year\n",
    "         FROM movies as m\n",
    "         INNER JOIN directors as d\n",
    "         ON m.director_id = d.id\n",
    "         WHERE ratio is NOT NULL\n",
    "         ORDER BY -ratio         \n",
    "         LIMIT 10\n",
    "         '''\n",
    "df_earn = pd.read_sql_query(query_earn, connection)\n",
    "df_earn"
   ]
  },
  {
   "cell_type": "markdown",
   "id": "253660a7",
   "metadata": {},
   "source": [
    "Charlie Chaplin is indeed a movie genius with the staggering revenue to budget ratio of 8,500,000. What a return of investment."
   ]
  },
  {
   "cell_type": "markdown",
   "id": "8c0c8437",
   "metadata": {},
   "source": [
    "## OK, but what about the profit ratio of revenue/budget for all the movies out there?"
   ]
  },
  {
   "cell_type": "code",
   "execution_count": 178,
   "id": "3f092626",
   "metadata": {},
   "outputs": [
    {
     "data": {
      "text/plain": [
       "1.0"
      ]
     },
     "execution_count": 178,
     "metadata": {},
     "output_type": "execute_result"
    }
   ],
   "source": [
    "query_earn1 = '''\n",
    "         SELECT m.title as movie, m.vote_average as rating, d.name, m.revenue/m.budget as ratio, \n",
    "         strftime('%Y', m.release_date) AS Year\n",
    "         FROM movies as m\n",
    "         INNER JOIN directors as d\n",
    "         ON m.director_id = d.id\n",
    "         WHERE ratio is NOT NULL\n",
    "         ORDER BY -ratio         \n",
    "         '''\n",
    "df_earn1 = pd.read_sql_query(query_earn1, connection)\n",
    "df_earn1['ratio'].median()"
   ]
  },
  {
   "cell_type": "code",
   "execution_count": 180,
   "id": "2a2184f4",
   "metadata": {},
   "outputs": [
    {
     "data": {
      "text/plain": [
       "2537.80526735834"
      ]
     },
     "execution_count": 180,
     "metadata": {},
     "output_type": "execute_result"
    }
   ],
   "source": [
    "df_earn1['ratio'].mean()"
   ]
  },
  {
   "cell_type": "markdown",
   "id": "90c97388",
   "metadata": {},
   "source": [
    "Seems like the data for this profit ratio is right skewed where mean < median. When the data is skewed, it is better to use median. Therefore, the movies are normally at breakeven where the revenue = budget."
   ]
  },
  {
   "cell_type": "markdown",
   "id": "7dda8da5",
   "metadata": {},
   "source": [
    "## Question 4 Find out all the years of average vote count and ratings, are they increasing?"
   ]
  },
  {
   "cell_type": "markdown",
   "id": "3f0ae139",
   "metadata": {},
   "source": [
    "Let's find out if the average votes and average ratings are increasing throughout the years."
   ]
  },
  {
   "cell_type": "code",
   "execution_count": 92,
   "id": "04c6a654",
   "metadata": {},
   "outputs": [
    {
     "data": {
      "text/html": [
       "<div>\n",
       "<style scoped>\n",
       "    .dataframe tbody tr th:only-of-type {\n",
       "        vertical-align: middle;\n",
       "    }\n",
       "\n",
       "    .dataframe tbody tr th {\n",
       "        vertical-align: top;\n",
       "    }\n",
       "\n",
       "    .dataframe thead th {\n",
       "        text-align: right;\n",
       "    }\n",
       "</style>\n",
       "<table border=\"1\" class=\"dataframe\">\n",
       "  <thead>\n",
       "    <tr style=\"text-align: right;\">\n",
       "      <th></th>\n",
       "      <th>Year</th>\n",
       "      <th>avg_ratings</th>\n",
       "      <th>avg_votes</th>\n",
       "    </tr>\n",
       "  </thead>\n",
       "  <tbody>\n",
       "    <tr>\n",
       "      <th>0</th>\n",
       "      <td>1916</td>\n",
       "      <td>7.400000</td>\n",
       "      <td>60.000000</td>\n",
       "    </tr>\n",
       "    <tr>\n",
       "      <th>1</th>\n",
       "      <td>1925</td>\n",
       "      <td>7.000000</td>\n",
       "      <td>21.000000</td>\n",
       "    </tr>\n",
       "    <tr>\n",
       "      <th>2</th>\n",
       "      <td>1927</td>\n",
       "      <td>8.000000</td>\n",
       "      <td>657.000000</td>\n",
       "    </tr>\n",
       "    <tr>\n",
       "      <th>3</th>\n",
       "      <td>1929</td>\n",
       "      <td>6.300000</td>\n",
       "      <td>32.000000</td>\n",
       "    </tr>\n",
       "    <tr>\n",
       "      <th>4</th>\n",
       "      <td>1930</td>\n",
       "      <td>6.100000</td>\n",
       "      <td>19.000000</td>\n",
       "    </tr>\n",
       "    <tr>\n",
       "      <th>...</th>\n",
       "      <td>...</td>\n",
       "      <td>...</td>\n",
       "      <td>...</td>\n",
       "    </tr>\n",
       "    <tr>\n",
       "      <th>85</th>\n",
       "      <td>2013</td>\n",
       "      <td>6.115652</td>\n",
       "      <td>1140.878261</td>\n",
       "    </tr>\n",
       "    <tr>\n",
       "      <th>86</th>\n",
       "      <td>2014</td>\n",
       "      <td>5.631624</td>\n",
       "      <td>1064.038462</td>\n",
       "    </tr>\n",
       "    <tr>\n",
       "      <th>87</th>\n",
       "      <td>2015</td>\n",
       "      <td>5.642381</td>\n",
       "      <td>1001.761905</td>\n",
       "    </tr>\n",
       "    <tr>\n",
       "      <th>88</th>\n",
       "      <td>2016</td>\n",
       "      <td>5.833654</td>\n",
       "      <td>1146.384615</td>\n",
       "    </tr>\n",
       "    <tr>\n",
       "      <th>89</th>\n",
       "      <td>2017</td>\n",
       "      <td>7.400000</td>\n",
       "      <td>7.000000</td>\n",
       "    </tr>\n",
       "  </tbody>\n",
       "</table>\n",
       "<p>90 rows × 3 columns</p>\n",
       "</div>"
      ],
      "text/plain": [
       "    Year  avg_ratings    avg_votes\n",
       "0   1916     7.400000    60.000000\n",
       "1   1925     7.000000    21.000000\n",
       "2   1927     8.000000   657.000000\n",
       "3   1929     6.300000    32.000000\n",
       "4   1930     6.100000    19.000000\n",
       "..   ...          ...          ...\n",
       "85  2013     6.115652  1140.878261\n",
       "86  2014     5.631624  1064.038462\n",
       "87  2015     5.642381  1001.761905\n",
       "88  2016     5.833654  1146.384615\n",
       "89  2017     7.400000     7.000000\n",
       "\n",
       "[90 rows x 3 columns]"
      ]
     },
     "execution_count": 92,
     "metadata": {},
     "output_type": "execute_result"
    }
   ],
   "source": [
    "query_avg = '''\n",
    "         SELECT strftime('%Y', m.release_date) AS Year, AVG(m.vote_average) as avg_ratings, AVG(m.vote_count) as avg_votes\n",
    "         FROM movies as m\n",
    "         INNER JOIN directors as d\n",
    "         ON m.director_id = d.id\n",
    "         GROUP BY Year\n",
    "         '''\n",
    "df_avg = pd.read_sql_query(query_avg, connection)\n",
    "df_avg"
   ]
  },
  {
   "cell_type": "markdown",
   "id": "b0ff5263",
   "metadata": {},
   "source": [
    "The average votes are indeed increasing throughout the years, but it is not the same for the average ratings. For further confirmation, let's do some simple plotting"
   ]
  },
  {
   "cell_type": "code",
   "execution_count": 169,
   "id": "deae4aa2",
   "metadata": {},
   "outputs": [],
   "source": [
    "import matplotlib.pyplot as plt"
   ]
  },
  {
   "cell_type": "code",
   "execution_count": 170,
   "id": "1f7491bc",
   "metadata": {},
   "outputs": [],
   "source": [
    "df_recent = df_avg.tail(20)"
   ]
  },
  {
   "cell_type": "code",
   "execution_count": 171,
   "id": "e6e8509b",
   "metadata": {},
   "outputs": [
    {
     "data": {
      "text/plain": [
       "Text(0, 0.5, 'Average votes')"
      ]
     },
     "execution_count": 171,
     "metadata": {},
     "output_type": "execute_result"
    },
    {
     "data": {
      "image/png": "[encoded data removed]",
      "text/plain": [
       "<Figure size 640x480 with 1 Axes>"
      ]
     },
     "metadata": {},
     "output_type": "display_data"
    }
   ],
   "source": [
    "plt.plot('Year','avg_votes',data = df_recent)\n",
    "plt.xlabel('Year', fontsize=14)\n",
    "plt.xticks(rotation=90)\n",
    "plt.ylabel('Average votes', fontsize=14)"
   ]
  },
  {
   "cell_type": "markdown",
   "id": "0c60afc3",
   "metadata": {},
   "source": [
    "Seems like 2017 is an outlier, maybe there are not enough data, lets check how many movies produced in 2017 in this data."
   ]
  },
  {
   "cell_type": "code",
   "execution_count": 172,
   "id": "c0df20f4",
   "metadata": {},
   "outputs": [
    {
     "data": {
      "text/html": [
       "<div>\n",
       "<style scoped>\n",
       "    .dataframe tbody tr th:only-of-type {\n",
       "        vertical-align: middle;\n",
       "    }\n",
       "\n",
       "    .dataframe tbody tr th {\n",
       "        vertical-align: top;\n",
       "    }\n",
       "\n",
       "    .dataframe thead th {\n",
       "        text-align: right;\n",
       "    }\n",
       "</style>\n",
       "<table border=\"1\" class=\"dataframe\">\n",
       "  <thead>\n",
       "    <tr style=\"text-align: right;\">\n",
       "      <th></th>\n",
       "      <th>Year</th>\n",
       "      <th>count</th>\n",
       "    </tr>\n",
       "  </thead>\n",
       "  <tbody>\n",
       "    <tr>\n",
       "      <th>0</th>\n",
       "      <td>1916</td>\n",
       "      <td>1</td>\n",
       "    </tr>\n",
       "    <tr>\n",
       "      <th>1</th>\n",
       "      <td>1925</td>\n",
       "      <td>1</td>\n",
       "    </tr>\n",
       "    <tr>\n",
       "      <th>2</th>\n",
       "      <td>1927</td>\n",
       "      <td>1</td>\n",
       "    </tr>\n",
       "    <tr>\n",
       "      <th>3</th>\n",
       "      <td>1929</td>\n",
       "      <td>2</td>\n",
       "    </tr>\n",
       "    <tr>\n",
       "      <th>4</th>\n",
       "      <td>1930</td>\n",
       "      <td>1</td>\n",
       "    </tr>\n",
       "    <tr>\n",
       "      <th>...</th>\n",
       "      <td>...</td>\n",
       "      <td>...</td>\n",
       "    </tr>\n",
       "    <tr>\n",
       "      <th>85</th>\n",
       "      <td>2013</td>\n",
       "      <td>230</td>\n",
       "    </tr>\n",
       "    <tr>\n",
       "      <th>86</th>\n",
       "      <td>2014</td>\n",
       "      <td>234</td>\n",
       "    </tr>\n",
       "    <tr>\n",
       "      <th>87</th>\n",
       "      <td>2015</td>\n",
       "      <td>210</td>\n",
       "    </tr>\n",
       "    <tr>\n",
       "      <th>88</th>\n",
       "      <td>2016</td>\n",
       "      <td>104</td>\n",
       "    </tr>\n",
       "    <tr>\n",
       "      <th>89</th>\n",
       "      <td>2017</td>\n",
       "      <td>1</td>\n",
       "    </tr>\n",
       "  </tbody>\n",
       "</table>\n",
       "<p>90 rows × 2 columns</p>\n",
       "</div>"
      ],
      "text/plain": [
       "    Year  count\n",
       "0   1916      1\n",
       "1   1925      1\n",
       "2   1927      1\n",
       "3   1929      2\n",
       "4   1930      1\n",
       "..   ...    ...\n",
       "85  2013    230\n",
       "86  2014    234\n",
       "87  2015    210\n",
       "88  2016    104\n",
       "89  2017      1\n",
       "\n",
       "[90 rows x 2 columns]"
      ]
     },
     "execution_count": 172,
     "metadata": {},
     "output_type": "execute_result"
    }
   ],
   "source": [
    "query_movies = '''\n",
    "         SELECT strftime('%Y', m.release_date) AS Year, COUNT(*) as count\n",
    "         FROM movies as m\n",
    "         GROUP BY Year\n",
    "         '''\n",
    "df_num = pd.read_sql_query(query_movies, connection)\n",
    "df_num"
   ]
  },
  {
   "cell_type": "markdown",
   "id": "70819666",
   "metadata": {},
   "source": [
    "As expected, there is only 1 movie in 2017. Maybe the data collection is not completed. We can ignore 2017 for now.\n",
    "\n",
    "Now, select the most recent 20 years to study the trend of the average votes and average ratings."
   ]
  },
  {
   "cell_type": "code",
   "execution_count": 173,
   "id": "61b10ae8",
   "metadata": {},
   "outputs": [],
   "source": [
    "plot_data = df_recent.tail(21)[:-1]"
   ]
  },
  {
   "cell_type": "code",
   "execution_count": 174,
   "id": "511266d7",
   "metadata": {},
   "outputs": [
    {
     "data": {
      "text/plain": [
       "Text(0, 0.5, 'Average votes')"
      ]
     },
     "execution_count": 174,
     "metadata": {},
     "output_type": "execute_result"
    },
    {
     "data": {
      "image/png": "[encoded data removed]",
      "text/plain": [
       "<Figure size 640x480 with 1 Axes>"
      ]
     },
     "metadata": {},
     "output_type": "display_data"
    }
   ],
   "source": [
    "plt.plot('Year','avg_votes',data = plot_data)\n",
    "plt.xlabel('Year', fontsize=14)\n",
    "plt.xticks(rotation=90)\n",
    "plt.ylabel('Average votes', fontsize=14)"
   ]
  },
  {
   "cell_type": "code",
   "execution_count": 175,
   "id": "6fb92efe",
   "metadata": {},
   "outputs": [
    {
     "data": {
      "text/plain": [
       "Text(0, 0.5, 'Average ratings')"
      ]
     },
     "execution_count": 175,
     "metadata": {},
     "output_type": "execute_result"
    },
    {
     "data": {
      "image/png": "[encoded data removed]",
      "text/plain": [
       "<Figure size 640x480 with 1 Axes>"
      ]
     },
     "metadata": {},
     "output_type": "display_data"
    }
   ],
   "source": [
    "plt.plot('Year','avg_ratings',data = plot_data)\n",
    "plt.xlabel('Year', fontsize=14)\n",
    "plt.xticks(rotation=90)\n",
    "plt.ylabel('Average ratings', fontsize=14)"
   ]
  },
  {
   "cell_type": "markdown",
   "id": "5bee729b",
   "metadata": {},
   "source": [
    "From this dataset, we can confirmed that the average votes are increasing throughout the years. However, the average ratings are plummeting in 2014 and 2015. It's also interesting to note that the average votes increases although the average ratings decreases."
   ]
  },
  {
   "cell_type": "markdown",
   "id": "e8a6373c",
   "metadata": {},
   "source": [
    "## Question 5 Top revenue movies and its directors"
   ]
  },
  {
   "cell_type": "code",
   "execution_count": 141,
   "id": "0858f4dd",
   "metadata": {},
   "outputs": [
    {
     "data": {
      "text/html": [
       "<div>\n",
       "<style scoped>\n",
       "    .dataframe tbody tr th:only-of-type {\n",
       "        vertical-align: middle;\n",
       "    }\n",
       "\n",
       "    .dataframe tbody tr th {\n",
       "        vertical-align: top;\n",
       "    }\n",
       "\n",
       "    .dataframe thead th {\n",
       "        text-align: right;\n",
       "    }\n",
       "</style>\n",
       "<table border=\"1\" class=\"dataframe\">\n",
       "  <thead>\n",
       "    <tr style=\"text-align: right;\">\n",
       "      <th></th>\n",
       "      <th>title</th>\n",
       "      <th>revenue_in_thousands</th>\n",
       "      <th>ratio</th>\n",
       "      <th>name</th>\n",
       "    </tr>\n",
       "  </thead>\n",
       "  <tbody>\n",
       "    <tr>\n",
       "      <th>0</th>\n",
       "      <td>Avatar</td>\n",
       "      <td>2787965.0</td>\n",
       "      <td>11.0</td>\n",
       "      <td>James Cameron</td>\n",
       "    </tr>\n",
       "    <tr>\n",
       "      <th>1</th>\n",
       "      <td>Titanic</td>\n",
       "      <td>1845034.0</td>\n",
       "      <td>9.0</td>\n",
       "      <td>James Cameron</td>\n",
       "    </tr>\n",
       "    <tr>\n",
       "      <th>2</th>\n",
       "      <td>The Avengers</td>\n",
       "      <td>1519557.0</td>\n",
       "      <td>6.0</td>\n",
       "      <td>Joss Whedon</td>\n",
       "    </tr>\n",
       "    <tr>\n",
       "      <th>3</th>\n",
       "      <td>Jurassic World</td>\n",
       "      <td>1513528.0</td>\n",
       "      <td>10.0</td>\n",
       "      <td>Colin Trevorrow</td>\n",
       "    </tr>\n",
       "    <tr>\n",
       "      <th>4</th>\n",
       "      <td>Furious 7</td>\n",
       "      <td>1506249.0</td>\n",
       "      <td>7.0</td>\n",
       "      <td>James Wan</td>\n",
       "    </tr>\n",
       "    <tr>\n",
       "      <th>5</th>\n",
       "      <td>Avengers: Age of Ultron</td>\n",
       "      <td>1405403.0</td>\n",
       "      <td>5.0</td>\n",
       "      <td>Joss Whedon</td>\n",
       "    </tr>\n",
       "    <tr>\n",
       "      <th>6</th>\n",
       "      <td>Frozen</td>\n",
       "      <td>1274219.0</td>\n",
       "      <td>8.0</td>\n",
       "      <td>Chris Buck</td>\n",
       "    </tr>\n",
       "    <tr>\n",
       "      <th>7</th>\n",
       "      <td>Iron Man 3</td>\n",
       "      <td>1215439.0</td>\n",
       "      <td>6.0</td>\n",
       "      <td>Shane Black</td>\n",
       "    </tr>\n",
       "    <tr>\n",
       "      <th>8</th>\n",
       "      <td>Minions</td>\n",
       "      <td>1156730.0</td>\n",
       "      <td>15.0</td>\n",
       "      <td>Kyle Balda</td>\n",
       "    </tr>\n",
       "    <tr>\n",
       "      <th>9</th>\n",
       "      <td>Captain America: Civil War</td>\n",
       "      <td>1153304.0</td>\n",
       "      <td>4.0</td>\n",
       "      <td>Anthony Russo</td>\n",
       "    </tr>\n",
       "  </tbody>\n",
       "</table>\n",
       "</div>"
      ],
      "text/plain": [
       "                        title  revenue_in_thousands  ratio             name\n",
       "0                      Avatar             2787965.0   11.0    James Cameron\n",
       "1                     Titanic             1845034.0    9.0    James Cameron\n",
       "2                The Avengers             1519557.0    6.0      Joss Whedon\n",
       "3              Jurassic World             1513528.0   10.0  Colin Trevorrow\n",
       "4                   Furious 7             1506249.0    7.0        James Wan\n",
       "5     Avengers: Age of Ultron             1405403.0    5.0      Joss Whedon\n",
       "6                      Frozen             1274219.0    8.0       Chris Buck\n",
       "7                  Iron Man 3             1215439.0    6.0      Shane Black\n",
       "8                     Minions             1156730.0   15.0       Kyle Balda\n",
       "9  Captain America: Civil War             1153304.0    4.0    Anthony Russo"
      ]
     },
     "execution_count": 141,
     "metadata": {},
     "output_type": "execute_result"
    }
   ],
   "source": [
    "query_revenue = '''\n",
    "         SELECT title, ROUND(revenue/1000,0) as revenue_in_thousands, ROUND(revenue/budget,1) as ratio, name\n",
    "         FROM movies as m\n",
    "         INNER JOIN directors as d \n",
    "         ON m.director_id = d.id\n",
    "         ORDER BY -revenue_in_thousands\n",
    "         LIMIT 10\n",
    "         '''\n",
    "df_rev = pd.read_sql_query(query_revenue, connection)\n",
    "df_rev"
   ]
  },
  {
   "cell_type": "markdown",
   "id": "487a7825",
   "metadata": {},
   "source": [
    "James Cameron is one of the highest grossing directors."
   ]
  },
  {
   "cell_type": "markdown",
   "id": "e02b2cb7",
   "metadata": {},
   "source": [
    "## Question 6 Movies with the highest budget and its directors"
   ]
  },
  {
   "cell_type": "code",
   "execution_count": 144,
   "id": "f87d6d55",
   "metadata": {},
   "outputs": [
    {
     "data": {
      "text/html": [
       "<div>\n",
       "<style scoped>\n",
       "    .dataframe tbody tr th:only-of-type {\n",
       "        vertical-align: middle;\n",
       "    }\n",
       "\n",
       "    .dataframe tbody tr th {\n",
       "        vertical-align: top;\n",
       "    }\n",
       "\n",
       "    .dataframe thead th {\n",
       "        text-align: right;\n",
       "    }\n",
       "</style>\n",
       "<table border=\"1\" class=\"dataframe\">\n",
       "  <thead>\n",
       "    <tr style=\"text-align: right;\">\n",
       "      <th></th>\n",
       "      <th>title</th>\n",
       "      <th>budget_in_thousands</th>\n",
       "      <th>ratio</th>\n",
       "      <th>name</th>\n",
       "    </tr>\n",
       "  </thead>\n",
       "  <tbody>\n",
       "    <tr>\n",
       "      <th>0</th>\n",
       "      <td>Pirates of the Caribbean: On Stranger Tides</td>\n",
       "      <td>380000.0</td>\n",
       "      <td>2.0</td>\n",
       "      <td>Rob Marshall</td>\n",
       "    </tr>\n",
       "    <tr>\n",
       "      <th>1</th>\n",
       "      <td>Pirates of the Caribbean: At World's End</td>\n",
       "      <td>300000.0</td>\n",
       "      <td>3.0</td>\n",
       "      <td>Gore Verbinski</td>\n",
       "    </tr>\n",
       "    <tr>\n",
       "      <th>2</th>\n",
       "      <td>Avengers: Age of Ultron</td>\n",
       "      <td>280000.0</td>\n",
       "      <td>5.0</td>\n",
       "      <td>Joss Whedon</td>\n",
       "    </tr>\n",
       "    <tr>\n",
       "      <th>3</th>\n",
       "      <td>Superman Returns</td>\n",
       "      <td>270000.0</td>\n",
       "      <td>1.0</td>\n",
       "      <td>Bryan Singer</td>\n",
       "    </tr>\n",
       "    <tr>\n",
       "      <th>4</th>\n",
       "      <td>John Carter</td>\n",
       "      <td>260000.0</td>\n",
       "      <td>1.0</td>\n",
       "      <td>Andrew Stanton</td>\n",
       "    </tr>\n",
       "    <tr>\n",
       "      <th>5</th>\n",
       "      <td>Tangled</td>\n",
       "      <td>260000.0</td>\n",
       "      <td>2.0</td>\n",
       "      <td>Byron Howard</td>\n",
       "    </tr>\n",
       "    <tr>\n",
       "      <th>6</th>\n",
       "      <td>Spider-Man 3</td>\n",
       "      <td>258000.0</td>\n",
       "      <td>3.0</td>\n",
       "      <td>Sam Raimi</td>\n",
       "    </tr>\n",
       "    <tr>\n",
       "      <th>7</th>\n",
       "      <td>The Lone Ranger</td>\n",
       "      <td>255000.0</td>\n",
       "      <td>0.0</td>\n",
       "      <td>Gore Verbinski</td>\n",
       "    </tr>\n",
       "    <tr>\n",
       "      <th>8</th>\n",
       "      <td>The Dark Knight Rises</td>\n",
       "      <td>250000.0</td>\n",
       "      <td>4.0</td>\n",
       "      <td>Christopher Nolan</td>\n",
       "    </tr>\n",
       "    <tr>\n",
       "      <th>9</th>\n",
       "      <td>Harry Potter and the Half-Blood Prince</td>\n",
       "      <td>250000.0</td>\n",
       "      <td>3.0</td>\n",
       "      <td>David Yates</td>\n",
       "    </tr>\n",
       "  </tbody>\n",
       "</table>\n",
       "</div>"
      ],
      "text/plain": [
       "                                         title  budget_in_thousands  ratio  \\\n",
       "0  Pirates of the Caribbean: On Stranger Tides             380000.0    2.0   \n",
       "1     Pirates of the Caribbean: At World's End             300000.0    3.0   \n",
       "2                      Avengers: Age of Ultron             280000.0    5.0   \n",
       "3                             Superman Returns             270000.0    1.0   \n",
       "4                                  John Carter             260000.0    1.0   \n",
       "5                                      Tangled             260000.0    2.0   \n",
       "6                                 Spider-Man 3             258000.0    3.0   \n",
       "7                              The Lone Ranger             255000.0    0.0   \n",
       "8                        The Dark Knight Rises             250000.0    4.0   \n",
       "9       Harry Potter and the Half-Blood Prince             250000.0    3.0   \n",
       "\n",
       "                name  \n",
       "0       Rob Marshall  \n",
       "1     Gore Verbinski  \n",
       "2        Joss Whedon  \n",
       "3       Bryan Singer  \n",
       "4     Andrew Stanton  \n",
       "5       Byron Howard  \n",
       "6          Sam Raimi  \n",
       "7     Gore Verbinski  \n",
       "8  Christopher Nolan  \n",
       "9        David Yates  "
      ]
     },
     "execution_count": 144,
     "metadata": {},
     "output_type": "execute_result"
    }
   ],
   "source": [
    "query_budget = '''\n",
    "         SELECT title, ROUND(budget/1000,0) as budget_in_thousands,ROUND(revenue/budget,1) as ratio, name\n",
    "         FROM movies as m\n",
    "         INNER JOIN directors as d \n",
    "         ON m.director_id = d.id\n",
    "         ORDER BY -budget_in_thousands\n",
    "         LIMIT 10\n",
    "         '''\n",
    "df_budget = pd.read_sql_query(query_budget, connection)\n",
    "df_budget"
   ]
  },
  {
   "cell_type": "markdown",
   "id": "ab9b70fe",
   "metadata": {},
   "source": [
    "Pirates of the Carribean movies are really expensive to produce. Perhaps good salary for Johnny Depp."
   ]
  },
  {
   "cell_type": "markdown",
   "id": "a9a5cbba",
   "metadata": {},
   "source": [
    "We can see that the top revenue movies have a better profit ratio (revenue/budget) than the list of movies with highest budgets. \n",
    "\n",
    "Maybe the more you spend doesn't mean the more you will earn."
   ]
  },
  {
   "cell_type": "markdown",
   "id": "93cd2eff",
   "metadata": {},
   "source": [
    "## Conclusion from simple looking around in this sqlite database."
   ]
  },
  {
   "cell_type": "markdown",
   "id": "25f68233",
   "metadata": {},
   "source": [
    "1) Now, I have some movies to be watched from Christopher Nolan (3 most popular movies in Top10) and Hayao Miyazaki (Highest average rating for directors of >=3 movies).\n",
    "\n",
    "2) The averages votes are increasing but the averages ratings are decreasing in the last 20 years\n",
    "\n",
    "3) The median profit ratio for the movies in this dataset is just 1.0 (No earning, no loss)\n",
    "\n",
    "4) The highest grossing movies tend to have better profit ratio (revenue/budget)\n",
    "\n",
    "5) Higher budget does not translate to higher revenues."
   ]
  }
 ],
 "metadata": {
  "kernelspec": {
   "display_name": "Python 3 (ipykernel)",
   "language": "python",
   "name": "python3"
  },
  "language_info": {
   "codemirror_mode": {
    "name": "ipython",
    "version": 3
   },
   "file_extension": ".py",
   "mimetype": "text/x-python",
   "name": "python",
   "nbconvert_exporter": "python",
   "pygments_lexer": "ipython3",
   "version": "3.9.15"
  }
 },
 "nbformat": 4,
 "nbformat_minor": 5
}
